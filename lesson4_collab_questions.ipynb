{
  "nbformat": 4,
  "nbformat_minor": 0,
  "metadata": {
    "colab": {
      "name": "lesson4-collab-questions.ipynb",
      "version": "0.3.2",
      "provenance": [],
      "collapsed_sections": [],
      "toc_visible": true,
      "include_colab_link": true
    },
    "kernelspec": {
      "name": "python3",
      "display_name": "Python 3"
    },
    "accelerator": "GPU"
  },
  "cells": [
    {
      "cell_type": "markdown",
      "metadata": {
        "id": "view-in-github",
        "colab_type": "text"
      },
      "source": [
        "<a href=\"https://colab.research.google.com/github/simonwoodhead/course-v3/blob/master/lesson4_collab_questions.ipynb\" target=\"_parent\"><img src=\"https://colab.research.google.com/assets/colab-badge.svg\" alt=\"Open In Colab\"/></a>"
      ]
    },
    {
      "cell_type": "code",
      "metadata": {
        "id": "3BrWD7azgQ-B",
        "colab_type": "code",
        "outputId": "1142e691-633e-4ac2-e603-5cc9838283fb",
        "colab": {
          "base_uri": "https://localhost:8080/",
          "height": 52
        }
      },
      "source": [
        "!curl -s https://course.fast.ai/setup/colab | bash"
      ],
      "execution_count": 72,
      "outputs": [
        {
          "output_type": "stream",
          "text": [
            "Updating fastai...\n",
            "Done.\n"
          ],
          "name": "stdout"
        }
      ]
    },
    {
      "cell_type": "code",
      "metadata": {
        "id": "ieRTIQCwhhGF",
        "colab_type": "code",
        "colab": {}
      },
      "source": [
        "from fastai.collab import *\n",
        "from fastai.tabular import *"
      ],
      "execution_count": 0,
      "outputs": []
    },
    {
      "cell_type": "code",
      "metadata": {
        "id": "YA-Sq7vZsCkC",
        "colab_type": "code",
        "colab": {
          "base_uri": "https://localhost:8080/",
          "height": 34
        },
        "outputId": "04e1f30f-3003-49cd-910a-b61900d2d78f"
      },
      "source": [
        "from google.colab import drive\n",
        "drive.mount('/content/gdrive', force_remount=True)\n",
        "\n",
        "from pathlib import Path\n",
        "root_dir = Path('/content/gdrive/My Drive/')\n",
        "base_dir = root_dir/'fastai-v3/'"
      ],
      "execution_count": 74,
      "outputs": [
        {
          "output_type": "stream",
          "text": [
            "Mounted at /content/gdrive\n"
          ],
          "name": "stdout"
        }
      ]
    },
    {
      "cell_type": "markdown",
      "metadata": {
        "id": "4SrIg3-dhhGK",
        "colab_type": "text"
      },
      "source": [
        "## Collaborative filtering example"
      ]
    },
    {
      "cell_type": "markdown",
      "metadata": {
        "id": "gCdlxydKhhGL",
        "colab_type": "text"
      },
      "source": [
        "`collab` models use data in a `DataFrame` of user, items, and ratings."
      ]
    },
    {
      "cell_type": "code",
      "metadata": {
        "id": "jMjtkz6yhhGL",
        "colab_type": "code",
        "colab": {}
      },
      "source": [
        "user,item = 'UserId','QuestionId'"
      ],
      "execution_count": 0,
      "outputs": []
    },
    {
      "cell_type": "code",
      "metadata": {
        "id": "sAcX3bw2hhGV",
        "colab_type": "code",
        "outputId": "284dffbd-1b9e-4a1e-fdf6-54274d8083f3",
        "colab": {
          "base_uri": "https://localhost:8080/",
          "height": 195
        }
      },
      "source": [
        "answers = pd.read_csv(base_dir/'data/answers/answers.csv')\n",
        "series2cat(answers, user, item)\n",
        "answers.head()"
      ],
      "execution_count": 92,
      "outputs": [
        {
          "output_type": "execute_result",
          "data": {
            "text/html": [
              "<div>\n",
              "<style scoped>\n",
              "    .dataframe tbody tr th:only-of-type {\n",
              "        vertical-align: middle;\n",
              "    }\n",
              "\n",
              "    .dataframe tbody tr th {\n",
              "        vertical-align: top;\n",
              "    }\n",
              "\n",
              "    .dataframe thead th {\n",
              "        text-align: right;\n",
              "    }\n",
              "</style>\n",
              "<table border=\"1\" class=\"dataframe\">\n",
              "  <thead>\n",
              "    <tr style=\"text-align: right;\">\n",
              "      <th></th>\n",
              "      <th>UserId</th>\n",
              "      <th>QuestionId</th>\n",
              "      <th>IsCorrect</th>\n",
              "    </tr>\n",
              "  </thead>\n",
              "  <tbody>\n",
              "    <tr>\n",
              "      <th>0</th>\n",
              "      <td>1287150</td>\n",
              "      <td>78346</td>\n",
              "      <td>1</td>\n",
              "    </tr>\n",
              "    <tr>\n",
              "      <th>1</th>\n",
              "      <td>1287238</td>\n",
              "      <td>76908</td>\n",
              "      <td>1</td>\n",
              "    </tr>\n",
              "    <tr>\n",
              "      <th>2</th>\n",
              "      <td>1287238</td>\n",
              "      <td>76909</td>\n",
              "      <td>1</td>\n",
              "    </tr>\n",
              "    <tr>\n",
              "      <th>3</th>\n",
              "      <td>1287238</td>\n",
              "      <td>76910</td>\n",
              "      <td>1</td>\n",
              "    </tr>\n",
              "    <tr>\n",
              "      <th>4</th>\n",
              "      <td>1287238</td>\n",
              "      <td>76915</td>\n",
              "      <td>0</td>\n",
              "    </tr>\n",
              "  </tbody>\n",
              "</table>\n",
              "</div>"
            ],
            "text/plain": [
              "    UserId QuestionId  IsCorrect\n",
              "0  1287150      78346          1\n",
              "1  1287238      76908          1\n",
              "2  1287238      76909          1\n",
              "3  1287238      76910          1\n",
              "4  1287238      76915          0"
            ]
          },
          "metadata": {
            "tags": []
          },
          "execution_count": 92
        }
      ]
    },
    {
      "cell_type": "code",
      "metadata": {
        "id": "agj-PbtBFmQO",
        "colab_type": "code",
        "colab": {
          "base_uri": "https://localhost:8080/",
          "height": 87
        },
        "outputId": "dc7a75e8-0202-4d1b-953d-3eb7b5922d12"
      },
      "source": [
        "answers.dtypes"
      ],
      "execution_count": 93,
      "outputs": [
        {
          "output_type": "execute_result",
          "data": {
            "text/plain": [
              "UserId        category\n",
              "QuestionId    category\n",
              "IsCorrect        int64\n",
              "dtype: object"
            ]
          },
          "metadata": {
            "tags": []
          },
          "execution_count": 93
        }
      ]
    },
    {
      "cell_type": "markdown",
      "metadata": {
        "id": "l_VRIPUQhhGY",
        "colab_type": "text"
      },
      "source": [
        "That's all we need to create and train a model:"
      ]
    },
    {
      "cell_type": "code",
      "metadata": {
        "id": "5aiT3b55hhGZ",
        "colab_type": "code",
        "colab": {}
      },
      "source": [
        "data = CollabDataBunch.from_df(answers, seed=42, valid_pct=0.1)"
      ],
      "execution_count": 0,
      "outputs": []
    },
    {
      "cell_type": "code",
      "metadata": {
        "id": "z_akW_6khhGc",
        "colab_type": "code",
        "colab": {}
      },
      "source": [
        "y_range = [-0.5,1.5]"
      ],
      "execution_count": 0,
      "outputs": []
    },
    {
      "cell_type": "code",
      "metadata": {
        "id": "C8M71t4wySAZ",
        "colab_type": "code",
        "colab": {
          "base_uri": "https://localhost:8080/",
          "height": 195
        },
        "outputId": "e3007830-f102-4dc0-c23d-89ce1d16bc88"
      },
      "source": [
        "data.show_batch()"
      ],
      "execution_count": 81,
      "outputs": [
        {
          "output_type": "display_data",
          "data": {
            "text/html": [
              "<table border=\"1\" class=\"dataframe\">\n",
              "  <thead>\n",
              "    <tr style=\"text-align: right;\">\n",
              "      <th>UserId</th>\n",
              "      <th>QuestionId</th>\n",
              "      <th>target</th>\n",
              "    </tr>\n",
              "  </thead>\n",
              "  <tbody>\n",
              "    <tr>\n",
              "      <td>1249788</td>\n",
              "      <td>78131</td>\n",
              "      <td>1.0</td>\n",
              "    </tr>\n",
              "    <tr>\n",
              "      <td>1233142</td>\n",
              "      <td>77116</td>\n",
              "      <td>1.0</td>\n",
              "    </tr>\n",
              "    <tr>\n",
              "      <td>1347585</td>\n",
              "      <td>78238</td>\n",
              "      <td>1.0</td>\n",
              "    </tr>\n",
              "    <tr>\n",
              "      <td>1286589</td>\n",
              "      <td>76912</td>\n",
              "      <td>0.0</td>\n",
              "    </tr>\n",
              "    <tr>\n",
              "      <td>664808</td>\n",
              "      <td>76913</td>\n",
              "      <td>0.0</td>\n",
              "    </tr>\n",
              "  </tbody>\n",
              "</table>"
            ],
            "text/plain": [
              "<IPython.core.display.HTML object>"
            ]
          },
          "metadata": {
            "tags": []
          }
        }
      ]
    },
    {
      "cell_type": "code",
      "metadata": {
        "id": "4wJw2Wg_ygYg",
        "colab_type": "code",
        "colab": {
          "base_uri": "https://localhost:8080/",
          "height": 34
        },
        "outputId": "2faa0524-a6bd-4fea-d207-8079bc306b41"
      },
      "source": [
        "len(answers), len(data.train_ds), len(data.valid_ds)"
      ],
      "execution_count": 82,
      "outputs": [
        {
          "output_type": "execute_result",
          "data": {
            "text/plain": [
              "(183573, 165216, 18357)"
            ]
          },
          "metadata": {
            "tags": []
          },
          "execution_count": 82
        }
      ]
    },
    {
      "cell_type": "code",
      "metadata": {
        "id": "M5pp7a51g29Q",
        "colab_type": "code",
        "colab": {
          "base_uri": "https://localhost:8080/",
          "height": 87
        },
        "outputId": "14a290af-3aa0-4617-8e0a-ec3c2482b303"
      },
      "source": [
        "answers.dtypes"
      ],
      "execution_count": 83,
      "outputs": [
        {
          "output_type": "execute_result",
          "data": {
            "text/plain": [
              "UserId        int64\n",
              "QuestionId    int64\n",
              "IsCorrect     int64\n",
              "dtype: object"
            ]
          },
          "metadata": {
            "tags": []
          },
          "execution_count": 83
        }
      ]
    },
    {
      "cell_type": "code",
      "metadata": {
        "id": "32OKyRsyhhGf",
        "colab_type": "code",
        "colab": {}
      },
      "source": [
        "learn = collab_learner(data, n_factors=50, y_range=y_range, wd=1e-1)"
      ],
      "execution_count": 0,
      "outputs": []
    },
    {
      "cell_type": "code",
      "metadata": {
        "id": "bgpm-BAihhHK",
        "colab_type": "code",
        "outputId": "be9dfff5-45d4-4386-ffc5-eb362cc23c08",
        "colab": {
          "base_uri": "https://localhost:8080/",
          "height": 301
        }
      },
      "source": [
        "learn.lr_find()\n",
        "learn.recorder.plot(skip_end=15)"
      ],
      "execution_count": 88,
      "outputs": [
        {
          "output_type": "display_data",
          "data": {
            "text/html": [
              ""
            ],
            "text/plain": [
              "<IPython.core.display.HTML object>"
            ]
          },
          "metadata": {
            "tags": []
          }
        },
        {
          "output_type": "stream",
          "text": [
            "LR Finder is complete, type {learner_name}.recorder.plot() to see the graph.\n"
          ],
          "name": "stdout"
        },
        {
          "output_type": "display_data",
          "data": {
            "image/png": "[encoded data removed]",
            "text/plain": [
              "<Figure size 432x288 with 1 Axes>"
            ]
          },
          "metadata": {
            "tags": []
          }
        }
      ]
    },
    {
      "cell_type": "code",
      "metadata": {
        "id": "EKTmyoR7hhHP",
        "colab_type": "code",
        "outputId": "30814028-94bf-4443-cbd2-5a9e7fde14d4",
        "colab": {
          "base_uri": "https://localhost:8080/",
          "height": 195
        }
      },
      "source": [
        "learn.fit_one_cycle(5, 1e-2)"
      ],
      "execution_count": 89,
      "outputs": [
        {
          "output_type": "display_data",
          "data": {
            "text/html": [
              "<table border=\"1\" class=\"dataframe\">\n",
              "  <thead>\n",
              "    <tr style=\"text-align: left;\">\n",
              "      <th>epoch</th>\n",
              "      <th>train_loss</th>\n",
              "      <th>valid_loss</th>\n",
              "      <th>time</th>\n",
              "    </tr>\n",
              "  </thead>\n",
              "  <tbody>\n",
              "    <tr>\n",
              "      <td>0</td>\n",
              "      <td>0.197908</td>\n",
              "      <td>0.190667</td>\n",
              "      <td>00:16</td>\n",
              "    </tr>\n",
              "    <tr>\n",
              "      <td>1</td>\n",
              "      <td>0.187492</td>\n",
              "      <td>0.192209</td>\n",
              "      <td>00:17</td>\n",
              "    </tr>\n",
              "    <tr>\n",
              "      <td>2</td>\n",
              "      <td>0.180775</td>\n",
              "      <td>0.184282</td>\n",
              "      <td>00:16</td>\n",
              "    </tr>\n",
              "    <tr>\n",
              "      <td>3</td>\n",
              "      <td>0.163995</td>\n",
              "      <td>0.175386</td>\n",
              "      <td>00:17</td>\n",
              "    </tr>\n",
              "    <tr>\n",
              "      <td>4</td>\n",
              "      <td>0.138208</td>\n",
              "      <td>0.175185</td>\n",
              "      <td>00:16</td>\n",
              "    </tr>\n",
              "  </tbody>\n",
              "</table>"
            ],
            "text/plain": [
              "<IPython.core.display.HTML object>"
            ]
          },
          "metadata": {
            "tags": []
          }
        }
      ]
    },
    {
      "cell_type": "code",
      "metadata": {
        "id": "vTdeeQfHhhHS",
        "colab_type": "code",
        "colab": {}
      },
      "source": [
        "learn.save('dotprod')"
      ],
      "execution_count": 0,
      "outputs": []
    },
    {
      "cell_type": "markdown",
      "metadata": {
        "id": "39iaYDNEhhHW",
        "colab_type": "text"
      },
      "source": [
        "## Interpretation"
      ]
    },
    {
      "cell_type": "markdown",
      "metadata": {
        "id": "pK4cRUoUhhHX",
        "colab_type": "text"
      },
      "source": [
        "### Setup"
      ]
    },
    {
      "cell_type": "code",
      "metadata": {
        "id": "xEHeDxMKhhHY",
        "colab_type": "code",
        "colab": {}
      },
      "source": [
        "learn.load('dotprod');"
      ],
      "execution_count": 0,
      "outputs": []
    },
    {
      "cell_type": "code",
      "metadata": {
        "id": "lp5D6dOChhHb",
        "colab_type": "code",
        "outputId": "36e9b353-35f1-414d-e8e3-047cce5e5ab5",
        "colab": {
          "base_uri": "https://localhost:8080/",
          "height": 122
        }
      },
      "source": [
        "learn.model"
      ],
      "execution_count": 30,
      "outputs": [
        {
          "output_type": "execute_result",
          "data": {
            "text/plain": [
              "EmbeddingDotBias(\n",
              "  (u_weight): Embedding(1001, 50)\n",
              "  (i_weight): Embedding(1001, 50)\n",
              "  (u_bias): Embedding(1001, 1)\n",
              "  (i_bias): Embedding(1001, 1)\n",
              ")"
            ]
          },
          "metadata": {
            "tags": []
          },
          "execution_count": 30
        }
      ]
    },
    {
      "cell_type": "code",
      "metadata": {
        "id": "jNnmJqWRhhHe",
        "colab_type": "code",
        "outputId": "5d8e9f3e-0512-48d3-efb7-a133f3fb61af",
        "colab": {
          "base_uri": "https://localhost:8080/",
          "height": 34
        }
      },
      "source": [
        "# Order the questions by the ones with the most answers\n",
        "g = answers.groupby(item)['IsCorrect'].count()\n",
        "top_questions = g.sort_values(ascending=False).index.values[:1000]\n",
        "top_questions[:10]"
      ],
      "execution_count": 45,
      "outputs": [
        {
          "output_type": "execute_result",
          "data": {
            "text/plain": [
              "array([73873, 73874, 73876, 73877, 73878, 73879, 73880, 73875, 73882, 73881])"
            ]
          },
          "metadata": {
            "tags": []
          },
          "execution_count": 45
        }
      ]
    },
    {
      "cell_type": "markdown",
      "metadata": {
        "id": "PS3IlQmEhhHh",
        "colab_type": "text"
      },
      "source": [
        "### Question bias\n",
        "\n",
        "When a student answers a question they may get it correct because they are very able or because the question is easy. The bias term identifies how hard a question is removing taking account of the ability of the students who answered the question. This therefore gives us some measure of difficulty.\n",
        "\n",
        "I was having a complete nightmare with types here. The type of questionId is int64 but the `learn.bias` function was hitting at error when I passed in `top_questions`. It was complaining that the item did not exist in the training data but it did exist it just seems that the item is converting to a string! So I added `astype(str)` below."
      ]
    },
    {
      "cell_type": "code",
      "metadata": {
        "id": "X0_f32JnhhHi",
        "colab_type": "code",
        "outputId": "db1da591-ef75-4abe-cc83-1e6015e831dc",
        "colab": {
          "base_uri": "https://localhost:8080/",
          "height": 34
        }
      },
      "source": [
        "question_bias = learn.bias(top_questions.astype(str), is_item=True)\n",
        "question_bias.shape"
      ],
      "execution_count": 46,
      "outputs": [
        {
          "output_type": "execute_result",
          "data": {
            "text/plain": [
              "torch.Size([1000])"
            ]
          },
          "metadata": {
            "tags": []
          },
          "execution_count": 46
        }
      ]
    },
    {
      "cell_type": "code",
      "metadata": {
        "id": "RzRJXVXZhhHm",
        "colab_type": "code",
        "colab": {}
      },
      "source": [
        "mean_isCorrect = answers.groupby(item)['IsCorrect'].mean()"
      ],
      "execution_count": 0,
      "outputs": []
    },
    {
      "cell_type": "code",
      "metadata": {
        "id": "onYMHEUGjrac",
        "colab_type": "code",
        "colab": {
          "base_uri": "https://localhost:8080/",
          "height": 34
        },
        "outputId": "6004c00b-7864-4a96-f5eb-6c9a2610cb9d"
      },
      "source": [
        "top_questions.dtype"
      ],
      "execution_count": 48,
      "outputs": [
        {
          "output_type": "execute_result",
          "data": {
            "text/plain": [
              "dtype('int64')"
            ]
          },
          "metadata": {
            "tags": []
          },
          "execution_count": 48
        }
      ]
    },
    {
      "cell_type": "code",
      "metadata": {
        "id": "_Km7qyG4jOU5",
        "colab_type": "code",
        "colab": {}
      },
      "source": [
        "question_answers = [(b, i, mean_isCorrect.loc[i]) for i,b in zip(top_questions,question_bias)]"
      ],
      "execution_count": 0,
      "outputs": []
    },
    {
      "cell_type": "markdown",
      "metadata": {
        "id": "tk-9iew8sZ0O",
        "colab_type": "text"
      },
      "source": [
        "The following list shows the questions which the algorithm has identified as the most difficult (using the question bias term). There are three values shown for each question: the bias, the questionId and the mean of the correct answer. Notice that the order of the bias is not the same as the order of the means. This is a very important point. Our algorithm is not returning the questions which were just answered incorrectly the most, it is taking account of the student ability."
      ]
    },
    {
      "cell_type": "code",
      "metadata": {
        "id": "pswm8hGrhhHo",
        "colab_type": "code",
        "colab": {}
      },
      "source": [
        "item0 = lambda o:o[0]"
      ],
      "execution_count": 0,
      "outputs": []
    },
    {
      "cell_type": "code",
      "metadata": {
        "id": "_yFtPkc8hhHs",
        "colab_type": "code",
        "outputId": "b7b10f90-6452-42fb-ac39-084e9a41f1cb",
        "colab": {
          "base_uri": "https://localhost:8080/",
          "height": 281
        }
      },
      "source": [
        "sorted(question_answers, key=item0)[:15]"
      ],
      "execution_count": 54,
      "outputs": [
        {
          "output_type": "execute_result",
          "data": {
            "text/plain": [
              "[(tensor(-0.5316), 78319, 0.1527777777777778),\n",
              " (tensor(-0.4967), 75969, 0.16666666666666666),\n",
              " (tensor(-0.4758), 78519, 0.22325581395348837),\n",
              " (tensor(-0.4751), 78676, 0.18518518518518517),\n",
              " (tensor(-0.4708), 79746, 0.2254335260115607),\n",
              " (tensor(-0.4638), 77193, 0.20207253886010362),\n",
              " (tensor(-0.4427), 77184, 0.21890547263681592),\n",
              " (tensor(-0.4413), 77194, 0.22105263157894736),\n",
              " (tensor(-0.4276), 79730, 0.2578125),\n",
              " (tensor(-0.4125), 79645, 0.27941176470588236),\n",
              " (tensor(-0.4112), 77183, 0.1890547263681592),\n",
              " (tensor(-0.4082), 78225, 0.24615384615384617),\n",
              " (tensor(-0.4033), 78227, 0.2153846153846154),\n",
              " (tensor(-0.3986), 78384, 0.17525773195876287),\n",
              " (tensor(-0.3972), 77188, 0.26666666666666666)]"
            ]
          },
          "metadata": {
            "tags": []
          },
          "execution_count": 54
        }
      ]
    },
    {
      "cell_type": "markdown",
      "metadata": {
        "id": "oh65vcZZvuc-",
        "colab_type": "text"
      },
      "source": [
        "And now for the easiest questions..."
      ]
    },
    {
      "cell_type": "code",
      "metadata": {
        "id": "gbljYOmDhhHv",
        "colab_type": "code",
        "outputId": "3b4a96b6-84cf-401f-8bcf-bdad0546ae5c",
        "colab": {
          "base_uri": "https://localhost:8080/",
          "height": 281
        }
      },
      "source": [
        "sorted(question_answers, key=lambda o: o[0], reverse=True)[:15]"
      ],
      "execution_count": 56,
      "outputs": [
        {
          "output_type": "execute_result",
          "data": {
            "text/plain": [
              "[(tensor(0.9173), 77124, 0.9955947136563876),\n",
              " (tensor(0.7954), 78897, 0.9936708860759493),\n",
              " (tensor(0.7900), 78332, 0.9655172413793104),\n",
              " (tensor(0.7867), 77122, 0.9823788546255506),\n",
              " (tensor(0.7712), 77913, 0.975609756097561),\n",
              " (tensor(0.7653), 77153, 0.9559748427672956),\n",
              " (tensor(0.7639), 78228, 0.9150326797385621),\n",
              " (tensor(0.7629), 78898, 0.9810126582278481),\n",
              " (tensor(0.7036), 76719, 0.9565217391304348),\n",
              " (tensor(0.6966), 78788, 0.9805194805194806),\n",
              " (tensor(0.6748), 76857, 0.986013986013986),\n",
              " (tensor(0.6688), 77123, 0.960352422907489),\n",
              " (tensor(0.6657), 77129, 0.9493087557603687),\n",
              " (tensor(0.6306), 78787, 0.9545454545454546),\n",
              " (tensor(0.6305), 73652, 0.9446064139941691)]"
            ]
          },
          "metadata": {
            "tags": []
          },
          "execution_count": 56
        }
      ]
    },
    {
      "cell_type": "markdown",
      "metadata": {
        "id": "Ah_Ivdo3hhHy",
        "colab_type": "text"
      },
      "source": [
        "### Question weights"
      ]
    },
    {
      "cell_type": "markdown",
      "metadata": {
        "id": "3O40mJBuwhHh",
        "colab_type": "text"
      },
      "source": [
        "The weight matrix provides us with a way to look at the similarity between questions. The embeddings learnt for each question will capture some characteristics of the question in some way. E.g. the level of literacy required, the use of variables. Features are not hardcoded but learnt from the data naturally, so it then our task to interpret them."
      ]
    },
    {
      "cell_type": "code",
      "metadata": {
        "id": "JpTXqQYchhHy",
        "colab_type": "code",
        "outputId": "1494096f-b9bc-496a-9b39-d6b570527da1",
        "colab": {
          "base_uri": "https://localhost:8080/",
          "height": 34
        }
      },
      "source": [
        "question_w = learn.weight(top_questions.astype(str), is_item=True)\n",
        "question_w.shape"
      ],
      "execution_count": 58,
      "outputs": [
        {
          "output_type": "execute_result",
          "data": {
            "text/plain": [
              "torch.Size([1000, 50])"
            ]
          },
          "metadata": {
            "tags": []
          },
          "execution_count": 58
        }
      ]
    },
    {
      "cell_type": "markdown",
      "metadata": {
        "id": "BhrNtnpdxFjS",
        "colab_type": "text"
      },
      "source": [
        "Our embedding vectors are 50 elements long which makes it hard to interpret them. To aid interpretation we can use Principal Component Analysis. In PCA we project onto a lower dimensional space whilst trying to retain as much information as possible."
      ]
    },
    {
      "cell_type": "code",
      "metadata": {
        "id": "4ehq1j6bhhH1",
        "colab_type": "code",
        "outputId": "b96d2475-4de2-4a0f-f2a0-e15f41883d06",
        "colab": {
          "base_uri": "https://localhost:8080/",
          "height": 34
        }
      },
      "source": [
        "question_pca = question_w.pca(3)\n",
        "question_pca.shape"
      ],
      "execution_count": 63,
      "outputs": [
        {
          "output_type": "execute_result",
          "data": {
            "text/plain": [
              "torch.Size([1000, 3])"
            ]
          },
          "metadata": {
            "tags": []
          },
          "execution_count": 63
        }
      ]
    },
    {
      "cell_type": "code",
      "metadata": {
        "id": "cuLeyda3hhH4",
        "colab_type": "code",
        "colab": {}
      },
      "source": [
        "fac0,fac1,fac2 = question_pca.t()\n",
        "question_comp = [(f, i) for f,i in zip(fac0, top_questions)]"
      ],
      "execution_count": 0,
      "outputs": []
    },
    {
      "cell_type": "code",
      "metadata": {
        "id": "X8WHh1jLhhH6",
        "colab_type": "code",
        "outputId": "f743968e-1e62-4638-9415-c11a350733d5",
        "colab": {
          "base_uri": "https://localhost:8080/",
          "height": 193
        }
      },
      "source": [
        "sorted(question_comp, key=itemgetter(0), reverse=True)[:10]"
      ],
      "execution_count": 65,
      "outputs": [
        {
          "output_type": "execute_result",
          "data": {
            "text/plain": [
              "[(tensor(1.6057), 76720),\n",
              " (tensor(1.6008), 78076),\n",
              " (tensor(1.4830), 77980),\n",
              " (tensor(1.4565), 76864),\n",
              " (tensor(1.4558), 78791),\n",
              " (tensor(1.4398), 78983),\n",
              " (tensor(1.4217), 78682),\n",
              " (tensor(1.4106), 78788),\n",
              " (tensor(1.3872), 73652),\n",
              " (tensor(1.3621), 78078)]"
            ]
          },
          "metadata": {
            "tags": []
          },
          "execution_count": 65
        }
      ]
    },
    {
      "cell_type": "code",
      "metadata": {
        "id": "2TtMwd7ThhH9",
        "colab_type": "code",
        "outputId": "a9423933-013a-4873-e07d-afeb1c2f22d2",
        "colab": {
          "base_uri": "https://localhost:8080/",
          "height": 193
        }
      },
      "source": [
        "sorted(question_comp, key=itemgetter(0))[:10]"
      ],
      "execution_count": 66,
      "outputs": [
        {
          "output_type": "execute_result",
          "data": {
            "text/plain": [
              "[(tensor(-1.9825), 78319),\n",
              " (tensor(-1.7050), 78382),\n",
              " (tensor(-1.6658), 77933),\n",
              " (tensor(-1.6397), 78384),\n",
              " (tensor(-1.6390), 77183),\n",
              " (tensor(-1.6165), 78597),\n",
              " (tensor(-1.5937), 77184),\n",
              " (tensor(-1.5575), 73611),\n",
              " (tensor(-1.5544), 78625),\n",
              " (tensor(-1.5033), 75969)]"
            ]
          },
          "metadata": {
            "tags": []
          },
          "execution_count": 66
        }
      ]
    },
    {
      "cell_type": "markdown",
      "metadata": {
        "id": "DNYKKPCnx93v",
        "colab_type": "text"
      },
      "source": [
        "**TODO An interesting exercise here would be to look at the subjects or constructs that each of these questions is tagged with.**"
      ]
    },
    {
      "cell_type": "code",
      "metadata": {
        "id": "BSIcz82KhhIA",
        "colab_type": "code",
        "colab": {}
      },
      "source": [
        "question_comp = [(f, i) for f,i in zip(fac1, top_questions)]"
      ],
      "execution_count": 0,
      "outputs": []
    },
    {
      "cell_type": "code",
      "metadata": {
        "id": "ZrN1ivzchhIC",
        "colab_type": "code",
        "outputId": "ba0d6f71-147c-4ebb-c950-bbbcf0c994b5",
        "colab": {
          "base_uri": "https://localhost:8080/",
          "height": 193
        }
      },
      "source": [
        "sorted(question_comp, key=itemgetter(0), reverse=True)[:10]"
      ],
      "execution_count": 68,
      "outputs": [
        {
          "output_type": "execute_result",
          "data": {
            "text/plain": [
              "[(tensor(0.9386), 76868),\n",
              " (tensor(0.8894), 75952),\n",
              " (tensor(0.8734), 78386),\n",
              " (tensor(0.8721), 75959),\n",
              " (tensor(0.8527), 75948),\n",
              " (tensor(0.8500), 78672),\n",
              " (tensor(0.8112), 78600),\n",
              " (tensor(0.7995), 77174),\n",
              " (tensor(0.7951), 77151),\n",
              " (tensor(0.7862), 75954)]"
            ]
          },
          "metadata": {
            "tags": []
          },
          "execution_count": 68
        }
      ]
    },
    {
      "cell_type": "code",
      "metadata": {
        "id": "aClH8LF5hhIE",
        "colab_type": "code",
        "outputId": "0a9d5232-7120-49c0-de58-65281c95344f",
        "colab": {
          "base_uri": "https://localhost:8080/",
          "height": 193
        }
      },
      "source": [
        "sorted(question_comp, key=itemgetter(0))[:10]"
      ],
      "execution_count": 69,
      "outputs": [
        {
          "output_type": "execute_result",
          "data": {
            "text/plain": [
              "[(tensor(-1.1441), 79851),\n",
              " (tensor(-1.0984), 77153),\n",
              " (tensor(-1.0644), 73616),\n",
              " (tensor(-1.0514), 78359),\n",
              " (tensor(-1.0246), 78653),\n",
              " (tensor(-1.0018), 79846),\n",
              " (tensor(-0.9600), 76912),\n",
              " (tensor(-0.9496), 78322),\n",
              " (tensor(-0.9199), 78304),\n",
              " (tensor(-0.9155), 78597)]"
            ]
          },
          "metadata": {
            "tags": []
          },
          "execution_count": 69
        }
      ]
    },
    {
      "cell_type": "code",
      "metadata": {
        "id": "zIcIDn1HhhIH",
        "colab_type": "code",
        "outputId": "8863aebb-b0ab-4988-c1ea-a014a843b8b4",
        "colab": {
          "base_uri": "https://localhost:8080/",
          "height": 867
        }
      },
      "source": [
        "idxs = np.random.choice(len(top_questions), 50, replace=False)\n",
        "idxs = list(range(50))\n",
        "X = fac0[idxs]\n",
        "Y = fac2[idxs]\n",
        "plt.figure(figsize=(15,15))\n",
        "plt.scatter(X, Y)\n",
        "for i, x, y in zip(top_questions[idxs], X, Y):\n",
        "    plt.text(x,y,i, color=np.random.rand(3)*0.7, fontsize=11)\n",
        "plt.show()"
      ],
      "execution_count": 71,
      "outputs": [
        {
          "output_type": "display_data",
          "data": {
            "image/png": "[encoded data removed]",
            "text/plain": [
              "<Figure size 1080x1080 with 1 Axes>"
            ]
          },
          "metadata": {
            "tags": []
          }
        }
      ]
    },
    {
      "cell_type": "code",
      "metadata": {
        "id": "Z4sovqq7hhIK",
        "colab_type": "code",
        "colab": {}
      },
      "source": [
        ""
      ],
      "execution_count": 0,
      "outputs": []
    }
  ]
}