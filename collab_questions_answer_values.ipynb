{
  "nbformat": 4,
  "nbformat_minor": 0,
  "metadata": {
    "colab": {
      "name": "collab-questions-answer-values.ipynb",
      "version": "0.3.2",
      "provenance": [],
      "collapsed_sections": [],
      "toc_visible": true,
      "include_colab_link": true
    },
    "kernelspec": {
      "name": "python3",
      "display_name": "Python 3"
    },
    "accelerator": "GPU"
  },
  "cells": [
    {
      "cell_type": "markdown",
      "metadata": {
        "id": "view-in-github",
        "colab_type": "text"
      },
      "source": [
        "<a href=\"https://colab.research.google.com/github/simonwoodhead/course-v3/blob/master/collab_questions_answer_values.ipynb\" target=\"_parent\"><img src=\"https://colab.research.google.com/assets/colab-badge.svg\" alt=\"Open In Colab\"/></a>"
      ]
    },
    {
      "cell_type": "code",
      "metadata": {
        "id": "3BrWD7azgQ-B",
        "colab_type": "code",
        "outputId": "5fa4fa41-e39c-4ee8-f62f-8d2c0ec7577c",
        "colab": {
          "base_uri": "https://localhost:8080/",
          "height": 52
        }
      },
      "source": [
        "!curl -s https://course.fast.ai/setup/colab | bash"
      ],
      "execution_count": 0,
      "outputs": [
        {
          "output_type": "stream",
          "text": [
            "Updating fastai...\n",
            "Done.\n"
          ],
          "name": "stdout"
        }
      ]
    },
    {
      "cell_type": "code",
      "metadata": {
        "id": "ieRTIQCwhhGF",
        "colab_type": "code",
        "colab": {}
      },
      "source": [
        "from fastai.collab import *\n",
        "from fastai.tabular import *"
      ],
      "execution_count": 0,
      "outputs": []
    },
    {
      "cell_type": "code",
      "metadata": {
        "id": "YA-Sq7vZsCkC",
        "colab_type": "code",
        "outputId": "2af0012a-934a-419f-eb8e-6a8d719aed33",
        "colab": {
          "base_uri": "https://localhost:8080/",
          "height": 35
        }
      },
      "source": [
        "from google.colab import drive\n",
        "drive.mount('/content/gdrive', force_remount=True)\n",
        "\n",
        "from pathlib import Path\n",
        "root_dir = Path('/content/gdrive/My Drive/')\n",
        "base_dir = root_dir/'fastai-v3/'"
      ],
      "execution_count": 0,
      "outputs": [
        {
          "output_type": "stream",
          "text": [
            "Mounted at /content/gdrive\n"
          ],
          "name": "stdout"
        }
      ]
    },
    {
      "cell_type": "markdown",
      "metadata": {
        "id": "4SrIg3-dhhGK",
        "colab_type": "text"
      },
      "source": [
        "## Collaborative filtering example"
      ]
    },
    {
      "cell_type": "markdown",
      "metadata": {
        "id": "gCdlxydKhhGL",
        "colab_type": "text"
      },
      "source": [
        "`collab` models use data in a `DataFrame` of user, items, and ratings."
      ]
    },
    {
      "cell_type": "code",
      "metadata": {
        "id": "jMjtkz6yhhGL",
        "colab_type": "code",
        "colab": {}
      },
      "source": [
        "user,item = 'UserId','QuestionIdAnswerValue'"
      ],
      "execution_count": 0,
      "outputs": []
    },
    {
      "cell_type": "markdown",
      "metadata": {
        "id": "bZ7hKl17yENP",
        "colab_type": "text"
      },
      "source": [
        "**TODO: Refactor to use the categories property when creating the CollabDataBunch**\n",
        "\n",
        "---\n",
        "\n",
        "\n",
        "\n",
        "---\n",
        "\n"
      ]
    },
    {
      "cell_type": "code",
      "metadata": {
        "id": "sAcX3bw2hhGV",
        "colab_type": "code",
        "outputId": "a863deee-31e4-4732-b981-8d05eea0dccf",
        "colab": {
          "base_uri": "https://localhost:8080/",
          "height": 194
        }
      },
      "source": [
        "answers = pd.read_csv(base_dir/'data/answers/IncorrectAnswersWithValuesv2.csv')\n",
        "series2cat(answers, user, item)\n",
        "answers.head()"
      ],
      "execution_count": 0,
      "outputs": [
        {
          "output_type": "execute_result",
          "data": {
            "text/html": [
              "<div>\n",
              "<style scoped>\n",
              "    .dataframe tbody tr th:only-of-type {\n",
              "        vertical-align: middle;\n",
              "    }\n",
              "\n",
              "    .dataframe tbody tr th {\n",
              "        vertical-align: top;\n",
              "    }\n",
              "\n",
              "    .dataframe thead th {\n",
              "        text-align: right;\n",
              "    }\n",
              "</style>\n",
              "<table border=\"1\" class=\"dataframe\">\n",
              "  <thead>\n",
              "    <tr style=\"text-align: right;\">\n",
              "      <th></th>\n",
              "      <th>UserId</th>\n",
              "      <th>QuestionIdAnswerValue</th>\n",
              "      <th>WhetherThisAnswerChosen</th>\n",
              "    </tr>\n",
              "  </thead>\n",
              "  <tbody>\n",
              "    <tr>\n",
              "      <th>0</th>\n",
              "      <td>1264152</td>\n",
              "      <td>77906-A</td>\n",
              "      <td>0</td>\n",
              "    </tr>\n",
              "    <tr>\n",
              "      <th>1</th>\n",
              "      <td>1263954</td>\n",
              "      <td>77910-A</td>\n",
              "      <td>0</td>\n",
              "    </tr>\n",
              "    <tr>\n",
              "      <th>2</th>\n",
              "      <td>1263954</td>\n",
              "      <td>77911-A</td>\n",
              "      <td>1</td>\n",
              "    </tr>\n",
              "    <tr>\n",
              "      <th>3</th>\n",
              "      <td>1263870</td>\n",
              "      <td>78334-A</td>\n",
              "      <td>0</td>\n",
              "    </tr>\n",
              "    <tr>\n",
              "      <th>4</th>\n",
              "      <td>1263870</td>\n",
              "      <td>78335-A</td>\n",
              "      <td>1</td>\n",
              "    </tr>\n",
              "  </tbody>\n",
              "</table>\n",
              "</div>"
            ],
            "text/plain": [
              "    UserId QuestionIdAnswerValue  WhetherThisAnswerChosen\n",
              "0  1264152               77906-A                        0\n",
              "1  1263954               77910-A                        0\n",
              "2  1263954               77911-A                        1\n",
              "3  1263870               78334-A                        0\n",
              "4  1263870               78335-A                        1"
            ]
          },
          "metadata": {
            "tags": []
          },
          "execution_count": 93
        }
      ]
    },
    {
      "cell_type": "code",
      "metadata": {
        "id": "agj-PbtBFmQO",
        "colab_type": "code",
        "outputId": "40b7d8f7-335e-4f36-ebf1-b71f749e77af",
        "colab": {
          "base_uri": "https://localhost:8080/",
          "height": 88
        }
      },
      "source": [
        "answers.dtypes"
      ],
      "execution_count": 0,
      "outputs": [
        {
          "output_type": "execute_result",
          "data": {
            "text/plain": [
              "UserId                     category\n",
              "QuestionIdAnswerValue      category\n",
              "WhetherThisAnswerChosen       int64\n",
              "dtype: object"
            ]
          },
          "metadata": {
            "tags": []
          },
          "execution_count": 94
        }
      ]
    },
    {
      "cell_type": "markdown",
      "metadata": {
        "id": "l_VRIPUQhhGY",
        "colab_type": "text"
      },
      "source": [
        "That's all we need to create and train a model:"
      ]
    },
    {
      "cell_type": "code",
      "metadata": {
        "id": "5aiT3b55hhGZ",
        "colab_type": "code",
        "colab": {}
      },
      "source": [
        "data = CollabDataBunch.from_df(answers, seed=42, valid_pct=0.1, )"
      ],
      "execution_count": 0,
      "outputs": []
    },
    {
      "cell_type": "markdown",
      "metadata": {
        "id": "uAqMejKyNTTk",
        "colab_type": "text"
      },
      "source": [
        "The loss function is actually associated with the data bunch. See that it is stored under the train_ds.y property."
      ]
    },
    {
      "cell_type": "code",
      "metadata": {
        "id": "Hv_GMgchM8Aa",
        "colab_type": "code",
        "outputId": "26f74c47-7039-4454-975e-05407625f4ac",
        "colab": {
          "base_uri": "https://localhost:8080/",
          "height": 35
        }
      },
      "source": [
        "data.train_ds.y.loss_func"
      ],
      "execution_count": 0,
      "outputs": [
        {
          "output_type": "execute_result",
          "data": {
            "text/plain": [
              "FlattenedLoss of MSELoss()"
            ]
          },
          "metadata": {
            "tags": []
          },
          "execution_count": 96
        }
      ]
    },
    {
      "cell_type": "code",
      "metadata": {
        "id": "z_akW_6khhGc",
        "colab_type": "code",
        "colab": {}
      },
      "source": [
        "y_range = [-0.2,1.2]"
      ],
      "execution_count": 0,
      "outputs": []
    },
    {
      "cell_type": "code",
      "metadata": {
        "id": "C8M71t4wySAZ",
        "colab_type": "code",
        "outputId": "364c3092-bb73-489a-c1b0-1e96c0bbee7d",
        "colab": {
          "base_uri": "https://localhost:8080/",
          "height": 194
        }
      },
      "source": [
        "data.show_batch()"
      ],
      "execution_count": 0,
      "outputs": [
        {
          "output_type": "display_data",
          "data": {
            "text/html": [
              "<table border=\"1\" class=\"dataframe\">\n",
              "  <thead>\n",
              "    <tr style=\"text-align: right;\">\n",
              "      <th>UserId</th>\n",
              "      <th>QuestionIdAnswerValue</th>\n",
              "      <th>target</th>\n",
              "    </tr>\n",
              "  </thead>\n",
              "  <tbody>\n",
              "    <tr>\n",
              "      <td>1286046</td>\n",
              "      <td>76905-D</td>\n",
              "      <td>1.0</td>\n",
              "    </tr>\n",
              "    <tr>\n",
              "      <td>1347870</td>\n",
              "      <td>78625-B</td>\n",
              "      <td>0.0</td>\n",
              "    </tr>\n",
              "    <tr>\n",
              "      <td>1264033</td>\n",
              "      <td>78979-C</td>\n",
              "      <td>1.0</td>\n",
              "    </tr>\n",
              "    <tr>\n",
              "      <td>1232755</td>\n",
              "      <td>78310-D</td>\n",
              "      <td>0.0</td>\n",
              "    </tr>\n",
              "    <tr>\n",
              "      <td>1263740</td>\n",
              "      <td>77988-A</td>\n",
              "      <td>0.0</td>\n",
              "    </tr>\n",
              "  </tbody>\n",
              "</table>"
            ],
            "text/plain": [
              "<IPython.core.display.HTML object>"
            ]
          },
          "metadata": {
            "tags": []
          }
        }
      ]
    },
    {
      "cell_type": "code",
      "metadata": {
        "id": "4wJw2Wg_ygYg",
        "colab_type": "code",
        "outputId": "90c291e8-c619-4d7c-a2df-8b6e43c41d1d",
        "colab": {
          "base_uri": "https://localhost:8080/",
          "height": 35
        }
      },
      "source": [
        "len(answers), len(data.train_ds), len(data.valid_ds)"
      ],
      "execution_count": 0,
      "outputs": [
        {
          "output_type": "execute_result",
          "data": {
            "text/plain": [
              "(290430, 261387, 29043)"
            ]
          },
          "metadata": {
            "tags": []
          },
          "execution_count": 99
        }
      ]
    },
    {
      "cell_type": "code",
      "metadata": {
        "id": "32OKyRsyhhGf",
        "colab_type": "code",
        "colab": {}
      },
      "source": [
        "learn = collab_learner(data, n_factors=50, y_range=y_range, wd=1e-1)"
      ],
      "execution_count": 0,
      "outputs": []
    },
    {
      "cell_type": "code",
      "metadata": {
        "id": "bgpm-BAihhHK",
        "colab_type": "code",
        "outputId": "f4bd473b-0ef5-4aab-bda9-dea4f2ee0763",
        "colab": {
          "base_uri": "https://localhost:8080/",
          "height": 300
        }
      },
      "source": [
        "learn.lr_find()\n",
        "learn.recorder.plot(skip_end=15)"
      ],
      "execution_count": 0,
      "outputs": [
        {
          "output_type": "display_data",
          "data": {
            "text/html": [
              ""
            ],
            "text/plain": [
              "<IPython.core.display.HTML object>"
            ]
          },
          "metadata": {
            "tags": []
          }
        },
        {
          "output_type": "stream",
          "text": [
            "LR Finder is complete, type {learner_name}.recorder.plot() to see the graph.\n"
          ],
          "name": "stdout"
        },
        {
          "output_type": "display_data",
          "data": {
            "image/png": "[encoded data removed]",
            "text/plain": [
              "<Figure size 432x288 with 1 Axes>"
            ]
          },
          "metadata": {
            "tags": []
          }
        }
      ]
    },
    {
      "cell_type": "code",
      "metadata": {
        "id": "EKTmyoR7hhHP",
        "colab_type": "code",
        "outputId": "946386d2-b384-44db-c739-b086459c423c",
        "colab": {
          "base_uri": "https://localhost:8080/",
          "height": 194
        }
      },
      "source": [
        "learn.fit_one_cycle(5, 5e-6)"
      ],
      "execution_count": 0,
      "outputs": [
        {
          "output_type": "display_data",
          "data": {
            "text/html": [
              "<table border=\"1\" class=\"dataframe\">\n",
              "  <thead>\n",
              "    <tr style=\"text-align: left;\">\n",
              "      <th>epoch</th>\n",
              "      <th>train_loss</th>\n",
              "      <th>valid_loss</th>\n",
              "      <th>time</th>\n",
              "    </tr>\n",
              "  </thead>\n",
              "  <tbody>\n",
              "    <tr>\n",
              "      <td>0</td>\n",
              "      <td>0.172033</td>\n",
              "      <td>0.196877</td>\n",
              "      <td>00:25</td>\n",
              "    </tr>\n",
              "    <tr>\n",
              "      <td>1</td>\n",
              "      <td>0.171740</td>\n",
              "      <td>0.196853</td>\n",
              "      <td>00:26</td>\n",
              "    </tr>\n",
              "    <tr>\n",
              "      <td>2</td>\n",
              "      <td>0.170195</td>\n",
              "      <td>0.196832</td>\n",
              "      <td>00:25</td>\n",
              "    </tr>\n",
              "    <tr>\n",
              "      <td>3</td>\n",
              "      <td>0.172258</td>\n",
              "      <td>0.196822</td>\n",
              "      <td>00:25</td>\n",
              "    </tr>\n",
              "    <tr>\n",
              "      <td>4</td>\n",
              "      <td>0.169404</td>\n",
              "      <td>0.196820</td>\n",
              "      <td>00:26</td>\n",
              "    </tr>\n",
              "  </tbody>\n",
              "</table>"
            ],
            "text/plain": [
              "<IPython.core.display.HTML object>"
            ]
          },
          "metadata": {
            "tags": []
          }
        }
      ]
    },
    {
      "cell_type": "code",
      "metadata": {
        "id": "vTdeeQfHhhHS",
        "colab_type": "code",
        "colab": {}
      },
      "source": [
        "learn.save('dotprod')"
      ],
      "execution_count": 0,
      "outputs": []
    },
    {
      "cell_type": "markdown",
      "metadata": {
        "id": "39iaYDNEhhHW",
        "colab_type": "text"
      },
      "source": [
        "## Interpretation"
      ]
    },
    {
      "cell_type": "markdown",
      "metadata": {
        "id": "pK4cRUoUhhHX",
        "colab_type": "text"
      },
      "source": [
        "### Setup"
      ]
    },
    {
      "cell_type": "code",
      "metadata": {
        "id": "xEHeDxMKhhHY",
        "colab_type": "code",
        "colab": {}
      },
      "source": [
        "learn.load('dotprod');"
      ],
      "execution_count": 0,
      "outputs": []
    },
    {
      "cell_type": "code",
      "metadata": {
        "id": "lp5D6dOChhHb",
        "colab_type": "code",
        "outputId": "5ab244ed-e845-4ecc-9e29-db8f934d3a96",
        "colab": {
          "base_uri": "https://localhost:8080/",
          "height": 124
        }
      },
      "source": [
        "learn.model"
      ],
      "execution_count": 0,
      "outputs": [
        {
          "output_type": "execute_result",
          "data": {
            "text/plain": [
              "EmbeddingDotBias(\n",
              "  (u_weight): Embedding(1001, 50)\n",
              "  (i_weight): Embedding(3001, 50)\n",
              "  (u_bias): Embedding(1001, 1)\n",
              "  (i_bias): Embedding(3001, 1)\n",
              ")"
            ]
          },
          "metadata": {
            "tags": []
          },
          "execution_count": 107
        }
      ]
    },
    {
      "cell_type": "code",
      "metadata": {
        "id": "jNnmJqWRhhHe",
        "colab_type": "code",
        "outputId": "6ffa70f0-a111-4157-a7cb-18adf91b2676",
        "colab": {
          "base_uri": "https://localhost:8080/",
          "height": 70
        }
      },
      "source": [
        "# Order the questions by the ones with the most answers\n",
        "g = answers.groupby(item)['WhetherThisAnswerChosen'].sum()\n",
        "top_questions = g.sort_values(ascending=False).index.values[:4000]\n",
        "top_questions[:10]"
      ],
      "execution_count": 0,
      "outputs": [
        {
          "output_type": "execute_result",
          "data": {
            "text/plain": [
              "[78235-B, 78220-D, 77905-C, 78227-D, 77805-A, 78134-B, 73611-B, 78242-A, 78243-B, 73664-C]\n",
              "Categories (3000, object): [73583-A < 73583-B < 73583-C < 73584-A ... 79852-C < 79853-A < 79853-B <\n",
              "                            79853-D]"
            ]
          },
          "metadata": {
            "tags": []
          },
          "execution_count": 109
        }
      ]
    },
    {
      "cell_type": "markdown",
      "metadata": {
        "id": "PS3IlQmEhhHh",
        "colab_type": "text"
      },
      "source": [
        "### Question bias\n",
        "\n",
        "When a student answers a question they may get it correct because they are very able or because the question is easy. The bias term identifies how hard a question is removing taking account of the ability of the students who answered the question. This therefore gives us some measure of difficulty.\n",
        "\n",
        "I was having a complete nightmare with types here. The type of questionId is int64 but the `learn.bias` function was hitting at error when I passed in `top_questions`. It was complaining that the item did not exist in the training data but it did exist it just seems that the item is converting to a string! So I added `astype(str)` below."
      ]
    },
    {
      "cell_type": "code",
      "metadata": {
        "id": "X0_f32JnhhHi",
        "colab_type": "code",
        "outputId": "f06bdee3-a653-4bb9-8240-f5c787da5b03",
        "colab": {
          "base_uri": "https://localhost:8080/",
          "height": 35
        }
      },
      "source": [
        "question_bias = learn.bias(top_questions.astype(str), is_item=True)\n",
        "question_bias.shape"
      ],
      "execution_count": 0,
      "outputs": [
        {
          "output_type": "execute_result",
          "data": {
            "text/plain": [
              "torch.Size([3000])"
            ]
          },
          "metadata": {
            "tags": []
          },
          "execution_count": 110
        }
      ]
    },
    {
      "cell_type": "code",
      "metadata": {
        "id": "RzRJXVXZhhHm",
        "colab_type": "code",
        "colab": {}
      },
      "source": [
        "mean_gaveThisAnswer = answers.groupby(item)['WhetherThisAnswerChosen'].mean()"
      ],
      "execution_count": 0,
      "outputs": []
    },
    {
      "cell_type": "code",
      "metadata": {
        "id": "vI6kPTLAxfyo",
        "colab_type": "code",
        "outputId": "19b90061-b1b5-4a4f-e8a3-bd887b1a0062",
        "colab": {
          "base_uri": "https://localhost:8080/",
          "height": 35
        }
      },
      "source": [
        "mean_gaveThisAnswer['73873-A'], mean_gaveThisAnswer['73873-B'], mean_gaveThisAnswer['73873-C']"
      ],
      "execution_count": 0,
      "outputs": [
        {
          "output_type": "execute_result",
          "data": {
            "text/plain": [
              "(0.22807017543859648, 0.543859649122807, 0.22807017543859648)"
            ]
          },
          "metadata": {
            "tags": []
          },
          "execution_count": 115
        }
      ]
    },
    {
      "cell_type": "code",
      "metadata": {
        "id": "_Km7qyG4jOU5",
        "colab_type": "code",
        "colab": {}
      },
      "source": [
        "#question_answers = [(b, i, mean_gaveThisAnswer.loc[i.astype(int)]) for i,b in zip(top_questions,question_bias)]\n",
        "question_answers = [(b, i, mean_gaveThisAnswer[i]) for i,b in zip(top_questions,question_bias)]"
      ],
      "execution_count": 0,
      "outputs": []
    },
    {
      "cell_type": "markdown",
      "metadata": {
        "id": "tk-9iew8sZ0O",
        "colab_type": "text"
      },
      "source": [
        "The following list shows the questions which the algorithm has identified as the most difficult (using the question bias term). There are three values shown for each question: the bias, the questionId and the mean of the correct answer. Notice that the order of the bias is not the same as the order of the means. This is a very important point. Our algorithm is not returning the questions which were just answered incorrectly the most, it is taking account of the student ability."
      ]
    },
    {
      "cell_type": "code",
      "metadata": {
        "id": "pswm8hGrhhHo",
        "colab_type": "code",
        "colab": {}
      },
      "source": [
        "item0 = lambda o:o[0]"
      ],
      "execution_count": 0,
      "outputs": []
    },
    {
      "cell_type": "markdown",
      "metadata": {
        "id": "jaBN2RfgDYhp",
        "colab_type": "text"
      },
      "source": [
        "The items with the lowest score may indicate that they are bad destractors or the question answers are too obvious."
      ]
    },
    {
      "cell_type": "code",
      "metadata": {
        "id": "_yFtPkc8hhHs",
        "colab_type": "code",
        "outputId": "5acf2c72-4295-4aec-f968-dff0c79ff8c3",
        "colab": {
          "base_uri": "https://localhost:8080/",
          "height": 284
        }
      },
      "source": [
        "sorted(question_answers, key=item0)[:15]"
      ],
      "execution_count": 0,
      "outputs": [
        {
          "output_type": "execute_result",
          "data": {
            "text/plain": [
              "[(tensor(-0.9351), '78218-A', 0.039473684210526314),\n",
              " (tensor(-0.9297), '77163-A', 0.0),\n",
              " (tensor(-0.8863), '73791-D', 0.04054054054054054),\n",
              " (tensor(-0.8580), '78642-A', 0.0380952380952381),\n",
              " (tensor(-0.8559), '78302-A', 0.023255813953488372),\n",
              " (tensor(-0.8526), '78099-D', 0.02727272727272727),\n",
              " (tensor(-0.8505), '77164-B', 0.010309278350515464),\n",
              " (tensor(-0.8462), '77949-D', 0.01652892561983471),\n",
              " (tensor(-0.8211), '77946-A', 0.022988505747126436),\n",
              " (tensor(-0.8152), '78220-C', 0.04672897196261682),\n",
              " (tensor(-0.8128), '76866-B', 0.0658682634730539),\n",
              " (tensor(-0.8125), '73655-D', 0.07428571428571429),\n",
              " (tensor(-0.8068), '75935-A', 0.04716981132075472),\n",
              " (tensor(-0.8000), '79014-C', 0.0625),\n",
              " (tensor(-0.7966), '78597-A', 0.04516129032258064)]"
            ]
          },
          "metadata": {
            "tags": []
          },
          "execution_count": 118
        }
      ]
    },
    {
      "cell_type": "markdown",
      "metadata": {
        "id": "oh65vcZZvuc-",
        "colab_type": "text"
      },
      "source": [
        "Potentially these answers are too attractive (right or wrong)"
      ]
    },
    {
      "cell_type": "code",
      "metadata": {
        "id": "gbljYOmDhhHv",
        "colab_type": "code",
        "outputId": "ddc4c532-f517-4210-aafa-bb5abd791ee0",
        "colab": {
          "base_uri": "https://localhost:8080/",
          "height": 284
        }
      },
      "source": [
        "sorted(question_answers, key=lambda o: o[0], reverse=True)[:15]"
      ],
      "execution_count": 0,
      "outputs": [
        {
          "output_type": "execute_result",
          "data": {
            "text/plain": [
              "[(tensor(0.7125), '78982-A', 0.8413793103448276),\n",
              " (tensor(0.7036), '78220-D', 0.8878504672897196),\n",
              " (tensor(0.5885), '75891-A', 0.7910447761194029),\n",
              " (tensor(0.5833), '77905-C', 0.8185840707964602),\n",
              " (tensor(0.5813), '78642-C', 0.8285714285714286),\n",
              " (tensor(0.5695), '73655-A', 0.8571428571428571),\n",
              " (tensor(0.5636), '77920-C', 0.8441558441558441),\n",
              " (tensor(0.5571), '75935-D', 0.839622641509434),\n",
              " (tensor(0.5512), '77895-A', 0.8863636363636364),\n",
              " (tensor(0.5454), '77164-C', 0.8350515463917526),\n",
              " (tensor(0.5275), '77805-A', 0.8159203980099502),\n",
              " (tensor(0.5237), '77125-C', 0.7721518987341772),\n",
              " (tensor(0.5224), '73611-B', 0.8412698412698413),\n",
              " (tensor(0.5144), '76852-C', 0.8214285714285714),\n",
              " (tensor(0.4998), '78303-D', 0.8257575757575758)]"
            ]
          },
          "metadata": {
            "tags": []
          },
          "execution_count": 119
        }
      ]
    },
    {
      "cell_type": "markdown",
      "metadata": {
        "id": "Ah_Ivdo3hhHy",
        "colab_type": "text"
      },
      "source": [
        "### Question weights"
      ]
    },
    {
      "cell_type": "markdown",
      "metadata": {
        "id": "3O40mJBuwhHh",
        "colab_type": "text"
      },
      "source": [
        "The weight matrix provides us with a way to look at the similarity between questions. The embeddings learnt for each question will capture some characteristics of the question in some way. E.g. the level of literacy required, the use of variables. Features are not hardcoded but learnt from the data naturally, so it then our task to interpret them."
      ]
    },
    {
      "cell_type": "code",
      "metadata": {
        "id": "JpTXqQYchhHy",
        "colab_type": "code",
        "outputId": "de4fa7bc-8d87-4a92-f900-5181423c7c9d",
        "colab": {
          "base_uri": "https://localhost:8080/",
          "height": 35
        }
      },
      "source": [
        "question_w = learn.weight(top_questions.astype(str), is_item=True)\n",
        "question_w.shape"
      ],
      "execution_count": 0,
      "outputs": [
        {
          "output_type": "execute_result",
          "data": {
            "text/plain": [
              "torch.Size([3000, 50])"
            ]
          },
          "metadata": {
            "tags": []
          },
          "execution_count": 120
        }
      ]
    },
    {
      "cell_type": "markdown",
      "metadata": {
        "id": "BhrNtnpdxFjS",
        "colab_type": "text"
      },
      "source": [
        "Our embedding vectors are 50 elements long which makes it hard to interpret them. To aid interpretation we can use Principal Component Analysis. In PCA we project onto a lower dimensional space whilst trying to retain as much information as possible."
      ]
    },
    {
      "cell_type": "code",
      "metadata": {
        "id": "4ehq1j6bhhH1",
        "colab_type": "code",
        "outputId": "8b86e549-5d7f-4fe0-ea4b-346de75a2ec0",
        "colab": {
          "base_uri": "https://localhost:8080/",
          "height": 35
        }
      },
      "source": [
        "question_pca = question_w.pca(3)\n",
        "question_pca.shape"
      ],
      "execution_count": 0,
      "outputs": [
        {
          "output_type": "execute_result",
          "data": {
            "text/plain": [
              "torch.Size([3000, 3])"
            ]
          },
          "metadata": {
            "tags": []
          },
          "execution_count": 121
        }
      ]
    },
    {
      "cell_type": "code",
      "metadata": {
        "id": "cuLeyda3hhH4",
        "colab_type": "code",
        "colab": {}
      },
      "source": [
        "fac0,fac1,fac2 = question_pca.t()\n",
        "question_comp = [(f, i) for f,i in zip(fac0, top_questions)]"
      ],
      "execution_count": 0,
      "outputs": []
    },
    {
      "cell_type": "code",
      "metadata": {
        "id": "X8WHh1jLhhH6",
        "colab_type": "code",
        "outputId": "3786942a-7104-4c78-8db4-3614e9fcc28c",
        "colab": {
          "base_uri": "https://localhost:8080/",
          "height": 195
        }
      },
      "source": [
        "sorted(question_comp, key=itemgetter(0), reverse=True)[:10]"
      ],
      "execution_count": 0,
      "outputs": [
        {
          "output_type": "execute_result",
          "data": {
            "text/plain": [
              "[(tensor(0.9408), '73607-C'),\n",
              " (tensor(0.9308), '78227-A'),\n",
              " (tensor(0.9223), '73601-C'),\n",
              " (tensor(0.9119), '73813-B'),\n",
              " (tensor(0.8900), '73808-D'),\n",
              " (tensor(0.8854), '78172-D'),\n",
              " (tensor(0.8839), '73611-D'),\n",
              " (tensor(0.8789), '78982-B'),\n",
              " (tensor(0.8781), '78100-D'),\n",
              " (tensor(0.8739), '73611-C')]"
            ]
          },
          "metadata": {
            "tags": []
          },
          "execution_count": 123
        }
      ]
    },
    {
      "cell_type": "code",
      "metadata": {
        "id": "2TtMwd7ThhH9",
        "colab_type": "code",
        "outputId": "1bba3c4a-00c2-4f9e-8323-b14e0ae19655",
        "colab": {
          "base_uri": "https://localhost:8080/",
          "height": 195
        }
      },
      "source": [
        "sorted(question_comp, key=itemgetter(0))[:10]"
      ],
      "execution_count": 0,
      "outputs": [
        {
          "output_type": "execute_result",
          "data": {
            "text/plain": [
              "[(tensor(-1.5162), '78982-A'),\n",
              " (tensor(-1.4803), '78172-A'),\n",
              " (tensor(-1.4750), '76083-B'),\n",
              " (tensor(-1.4501), '78174-B'),\n",
              " (tensor(-1.4453), '78975-A'),\n",
              " (tensor(-1.4079), '78220-D'),\n",
              " (tensor(-1.3913), '78303-D'),\n",
              " (tensor(-1.3662), '76852-C'),\n",
              " (tensor(-1.3498), '78080-A'),\n",
              " (tensor(-1.3254), '75935-D')]"
            ]
          },
          "metadata": {
            "tags": []
          },
          "execution_count": 124
        }
      ]
    },
    {
      "cell_type": "markdown",
      "metadata": {
        "id": "DNYKKPCnx93v",
        "colab_type": "text"
      },
      "source": [
        "**TODO An interesting exercise here would be to look at the subjects or constructs that each of these questions is tagged with.**"
      ]
    },
    {
      "cell_type": "code",
      "metadata": {
        "id": "BSIcz82KhhIA",
        "colab_type": "code",
        "colab": {}
      },
      "source": [
        "question_comp = [(f, i) for f,i in zip(fac1, top_questions)]"
      ],
      "execution_count": 0,
      "outputs": []
    },
    {
      "cell_type": "code",
      "metadata": {
        "id": "ZrN1ivzchhIC",
        "colab_type": "code",
        "outputId": "0076e538-6a84-45d8-e87b-4ddcf9db2a0a",
        "colab": {
          "base_uri": "https://localhost:8080/",
          "height": 195
        }
      },
      "source": [
        "sorted(question_comp, key=itemgetter(0), reverse=True)[:10]"
      ],
      "execution_count": 0,
      "outputs": [
        {
          "output_type": "execute_result",
          "data": {
            "text/plain": [
              "[(tensor(0.7370), '77898-D'),\n",
              " (tensor(0.7201), '76013-C'),\n",
              " (tensor(0.6783), '77878-D'),\n",
              " (tensor(0.6492), '75900-D'),\n",
              " (tensor(0.6415), '78703-C'),\n",
              " (tensor(0.6300), '78045-D'),\n",
              " (tensor(0.6231), '79020-D'),\n",
              " (tensor(0.6214), '78063-D'),\n",
              " (tensor(0.6204), '77877-A'),\n",
              " (tensor(0.6011), '78931-B')]"
            ]
          },
          "metadata": {
            "tags": []
          },
          "execution_count": 126
        }
      ]
    },
    {
      "cell_type": "code",
      "metadata": {
        "id": "aClH8LF5hhIE",
        "colab_type": "code",
        "outputId": "025801c4-6f11-485c-a978-1e0cfa16903b",
        "colab": {
          "base_uri": "https://localhost:8080/",
          "height": 195
        }
      },
      "source": [
        "sorted(question_comp, key=itemgetter(0))[:10]"
      ],
      "execution_count": 0,
      "outputs": [
        {
          "output_type": "execute_result",
          "data": {
            "text/plain": [
              "[(tensor(-0.7698), '77895-A'),\n",
              " (tensor(-0.6790), '78045-B'),\n",
              " (tensor(-0.6194), '78594-B'),\n",
              " (tensor(-0.6012), '78684-D'),\n",
              " (tensor(-0.5818), '77878-C'),\n",
              " (tensor(-0.5799), '78576-A'),\n",
              " (tensor(-0.5757), '75889-B'),\n",
              " (tensor(-0.5528), '78528-A'),\n",
              " (tensor(-0.5439), '77898-A'),\n",
              " (tensor(-0.5303), '79008-A')]"
            ]
          },
          "metadata": {
            "tags": []
          },
          "execution_count": 127
        }
      ]
    },
    {
      "cell_type": "code",
      "metadata": {
        "id": "zIcIDn1HhhIH",
        "colab_type": "code",
        "outputId": "86c41181-3f1e-456a-bdf1-8bda0713130e",
        "colab": {
          "base_uri": "https://localhost:8080/",
          "height": 867
        }
      },
      "source": [
        "idxs = np.random.choice(len(top_questions), 50, replace=False)\n",
        "idxs = list(range(50))\n",
        "X = fac0[idxs]\n",
        "Y = fac2[idxs]\n",
        "plt.figure(figsize=(15,15))\n",
        "plt.scatter(X, Y)\n",
        "for i, x, y in zip(top_questions[idxs], X, Y):\n",
        "    plt.text(x,y,i, color=np.random.rand(3)*0.7, fontsize=11)\n",
        "plt.show()"
      ],
      "execution_count": 0,
      "outputs": [
        {
          "output_type": "display_data",
          "data": {
            "image/png": "[encoded data removed]",
            "text/plain": [
              "<Figure size 1080x1080 with 1 Axes>"
            ]
          },
          "metadata": {
            "tags": []
          }
        }
      ]
    },
    {
      "cell_type": "code",
      "metadata": {
        "id": "Z4sovqq7hhIK",
        "colab_type": "code",
        "colab": {}
      },
      "source": [
        ""
      ],
      "execution_count": 0,
      "outputs": []
    }
  ]
}