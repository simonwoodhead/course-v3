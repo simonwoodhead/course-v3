{
  "nbformat": 4,
  "nbformat_minor": 0,
  "metadata": {
    "colab": {
      "name": "collab-questions.ipynb",
      "version": "0.3.2",
      "provenance": [],
      "collapsed_sections": [],
      "toc_visible": true,
      "include_colab_link": true
    },
    "kernelspec": {
      "name": "python3",
      "display_name": "Python 3"
    },
    "accelerator": "GPU"
  },
  "cells": [
    {
      "cell_type": "markdown",
      "metadata": {
        "id": "view-in-github",
        "colab_type": "text"
      },
      "source": [
        "<a href=\"https://colab.research.google.com/github/simonwoodhead/course-v3/blob/master/collab_questions-v2.ipynb\" target=\"_parent\"><img src=\"https://colab.research.google.com/assets/colab-badge.svg\" alt=\"Open In Colab\"/></a>"
      ]
    },
    {
      "cell_type": "code",
      "metadata": {
        "id": "3BrWD7azgQ-B",
        "colab_type": "code",
        "outputId": "27265430-c141-4e0c-fa5f-e70d6abbe578",
        "colab": {
          "base_uri": "https://localhost:8080/",
          "height": 52
        }
      },
      "source": [
        "!curl -s https://course.fast.ai/setup/colab | bash"
      ],
      "execution_count": 0,
      "outputs": [
        {
          "output_type": "stream",
          "text": [
            "Updating fastai...\n",
            "Done.\n"
          ],
          "name": "stdout"
        }
      ]
    },
    {
      "cell_type": "code",
      "metadata": {
        "id": "ieRTIQCwhhGF",
        "colab_type": "code",
        "colab": {}
      },
      "source": [
        "from fastai.collab import *\n",
        "from fastai.tabular import *"
      ],
      "execution_count": 0,
      "outputs": []
    },
    {
      "cell_type": "code",
      "metadata": {
        "id": "YA-Sq7vZsCkC",
        "colab_type": "code",
        "outputId": "ed9af1b1-f1b3-4844-f386-3a741076460e",
        "colab": {
          "base_uri": "https://localhost:8080/",
          "height": 126
        }
      },
      "source": [
        "from google.colab import drive\n",
        "drive.mount('/content/gdrive', force_remount=True)\n",
        "\n",
        "from pathlib import Path\n",
        "root_dir = Path('/content/gdrive/My Drive/')\n",
        "base_dir = root_dir/'fastai-v3/'"
      ],
      "execution_count": 0,
      "outputs": [
        {
          "output_type": "stream",
          "text": [
            "Go to this URL in a browser: https://accounts.google.com/o/oauth2/auth?client_id=947318989803-6bn6qk8qdgf4n4g3pfee6491hc0brc4i.apps.googleusercontent.com&redirect_uri=urn%3Aietf%3Awg%3Aoauth%3A2.0%3Aoob&scope=email%20https%3A%2F%2Fwww.googleapis.com%2Fauth%2Fdocs.test%20https%3A%2F%2Fwww.googleapis.com%2Fauth%2Fdrive%20https%3A%2F%2Fwww.googleapis.com%2Fauth%2Fdrive.photos.readonly%20https%3A%2F%2Fwww.googleapis.com%2Fauth%2Fpeopleapi.readonly&response_type=code\n",
            "\n",
            "Enter your authorization code:\n",
            "··········\n",
            "Mounted at /content/gdrive\n"
          ],
          "name": "stdout"
        }
      ]
    },
    {
      "cell_type": "markdown",
      "metadata": {
        "id": "4SrIg3-dhhGK",
        "colab_type": "text"
      },
      "source": [
        "## Collaborative filtering example"
      ]
    },
    {
      "cell_type": "markdown",
      "metadata": {
        "id": "gCdlxydKhhGL",
        "colab_type": "text"
      },
      "source": [
        "`collab` models use data in a `DataFrame` of user, items, and ratings."
      ]
    },
    {
      "cell_type": "code",
      "metadata": {
        "id": "jMjtkz6yhhGL",
        "colab_type": "code",
        "colab": {}
      },
      "source": [
        "user,item = 'UserId','QuestionId'"
      ],
      "execution_count": 0,
      "outputs": []
    },
    {
      "cell_type": "markdown",
      "metadata": {
        "id": "bZ7hKl17yENP",
        "colab_type": "text"
      },
      "source": [
        "**TODO: Refactor to use the categories property when creating the CollabDataBunch**"
      ]
    },
    {
      "cell_type": "code",
      "metadata": {
        "id": "sAcX3bw2hhGV",
        "colab_type": "code",
        "outputId": "41222013-57f0-44ac-a725-03c821aa2a20",
        "colab": {
          "base_uri": "https://localhost:8080/",
          "height": 194
        }
      },
      "source": [
        "answers = pd.read_csv(base_dir/'data/answers/answers.csv')\n",
        "series2cat(answers, user, item)\n",
        "answers.head()"
      ],
      "execution_count": 0,
      "outputs": [
        {
          "output_type": "execute_result",
          "data": {
            "text/html": [
              "<div>\n",
              "<style scoped>\n",
              "    .dataframe tbody tr th:only-of-type {\n",
              "        vertical-align: middle;\n",
              "    }\n",
              "\n",
              "    .dataframe tbody tr th {\n",
              "        vertical-align: top;\n",
              "    }\n",
              "\n",
              "    .dataframe thead th {\n",
              "        text-align: right;\n",
              "    }\n",
              "</style>\n",
              "<table border=\"1\" class=\"dataframe\">\n",
              "  <thead>\n",
              "    <tr style=\"text-align: right;\">\n",
              "      <th></th>\n",
              "      <th>UserId</th>\n",
              "      <th>QuestionId</th>\n",
              "      <th>IsCorrect</th>\n",
              "    </tr>\n",
              "  </thead>\n",
              "  <tbody>\n",
              "    <tr>\n",
              "      <th>0</th>\n",
              "      <td>1287150</td>\n",
              "      <td>78346</td>\n",
              "      <td>1</td>\n",
              "    </tr>\n",
              "    <tr>\n",
              "      <th>1</th>\n",
              "      <td>1287238</td>\n",
              "      <td>76908</td>\n",
              "      <td>1</td>\n",
              "    </tr>\n",
              "    <tr>\n",
              "      <th>2</th>\n",
              "      <td>1287238</td>\n",
              "      <td>76909</td>\n",
              "      <td>1</td>\n",
              "    </tr>\n",
              "    <tr>\n",
              "      <th>3</th>\n",
              "      <td>1287238</td>\n",
              "      <td>76910</td>\n",
              "      <td>1</td>\n",
              "    </tr>\n",
              "    <tr>\n",
              "      <th>4</th>\n",
              "      <td>1287238</td>\n",
              "      <td>76915</td>\n",
              "      <td>0</td>\n",
              "    </tr>\n",
              "  </tbody>\n",
              "</table>\n",
              "</div>"
            ],
            "text/plain": [
              "    UserId QuestionId  IsCorrect\n",
              "0  1287150      78346          1\n",
              "1  1287238      76908          1\n",
              "2  1287238      76909          1\n",
              "3  1287238      76910          1\n",
              "4  1287238      76915          0"
            ]
          },
          "metadata": {
            "tags": []
          },
          "execution_count": 13
        }
      ]
    },
    {
      "cell_type": "code",
      "metadata": {
        "id": "agj-PbtBFmQO",
        "colab_type": "code",
        "outputId": "00f580ce-0fd4-4306-a022-1f245264ca6e",
        "colab": {
          "base_uri": "https://localhost:8080/",
          "height": 88
        }
      },
      "source": [
        "answers.dtypes"
      ],
      "execution_count": 0,
      "outputs": [
        {
          "output_type": "execute_result",
          "data": {
            "text/plain": [
              "UserId        category\n",
              "QuestionId    category\n",
              "IsCorrect        int64\n",
              "dtype: object"
            ]
          },
          "metadata": {
            "tags": []
          },
          "execution_count": 14
        }
      ]
    },
    {
      "cell_type": "markdown",
      "metadata": {
        "id": "l_VRIPUQhhGY",
        "colab_type": "text"
      },
      "source": [
        "That's all we need to create and train a model:"
      ]
    },
    {
      "cell_type": "code",
      "metadata": {
        "id": "5aiT3b55hhGZ",
        "colab_type": "code",
        "colab": {}
      },
      "source": [
        "data = CollabDataBunch.from_df(answers, seed=42, valid_pct=0.1, )"
      ],
      "execution_count": 0,
      "outputs": []
    },
    {
      "cell_type": "markdown",
      "metadata": {
        "id": "uAqMejKyNTTk",
        "colab_type": "text"
      },
      "source": [
        "The loss function is actually associated with the data bunch. See that it is stored under the train_ds.y property."
      ]
    },
    {
      "cell_type": "code",
      "metadata": {
        "id": "Hv_GMgchM8Aa",
        "colab_type": "code",
        "outputId": "b7f70d27-bcde-4bb9-e5fd-0a6757863452",
        "colab": {
          "base_uri": "https://localhost:8080/",
          "height": 35
        }
      },
      "source": [
        "data.train_ds.y.loss_func"
      ],
      "execution_count": 0,
      "outputs": [
        {
          "output_type": "execute_result",
          "data": {
            "text/plain": [
              "FlattenedLoss of MSELoss()"
            ]
          },
          "metadata": {
            "tags": []
          },
          "execution_count": 16
        }
      ]
    },
    {
      "cell_type": "code",
      "metadata": {
        "id": "z_akW_6khhGc",
        "colab_type": "code",
        "colab": {}
      },
      "source": [
        "y_range = [-0.2,1.2]"
      ],
      "execution_count": 0,
      "outputs": []
    },
    {
      "cell_type": "code",
      "metadata": {
        "id": "C8M71t4wySAZ",
        "colab_type": "code",
        "outputId": "4444c659-6bd8-46ff-d274-19405582d116",
        "colab": {
          "base_uri": "https://localhost:8080/",
          "height": 194
        }
      },
      "source": [
        "data.show_batch()"
      ],
      "execution_count": 0,
      "outputs": [
        {
          "output_type": "display_data",
          "data": {
            "text/html": [
              "<table border=\"1\" class=\"dataframe\">\n",
              "  <thead>\n",
              "    <tr style=\"text-align: right;\">\n",
              "      <th>UserId</th>\n",
              "      <th>QuestionId</th>\n",
              "      <th>target</th>\n",
              "    </tr>\n",
              "  </thead>\n",
              "  <tbody>\n",
              "    <tr>\n",
              "      <td>1101961</td>\n",
              "      <td>77784</td>\n",
              "      <td>1.0</td>\n",
              "    </tr>\n",
              "    <tr>\n",
              "      <td>1286512</td>\n",
              "      <td>77808</td>\n",
              "      <td>0.0</td>\n",
              "    </tr>\n",
              "    <tr>\n",
              "      <td>1232618</td>\n",
              "      <td>79683</td>\n",
              "      <td>0.0</td>\n",
              "    </tr>\n",
              "    <tr>\n",
              "      <td>1347906</td>\n",
              "      <td>75927</td>\n",
              "      <td>0.0</td>\n",
              "    </tr>\n",
              "    <tr>\n",
              "      <td>1286406</td>\n",
              "      <td>79684</td>\n",
              "      <td>0.0</td>\n",
              "    </tr>\n",
              "  </tbody>\n",
              "</table>"
            ],
            "text/plain": [
              "<IPython.core.display.HTML object>"
            ]
          },
          "metadata": {
            "tags": []
          }
        }
      ]
    },
    {
      "cell_type": "code",
      "metadata": {
        "id": "4wJw2Wg_ygYg",
        "colab_type": "code",
        "outputId": "202a9c2c-21c1-4f95-e99d-5388ed4ac233",
        "colab": {
          "base_uri": "https://localhost:8080/",
          "height": 35
        }
      },
      "source": [
        "len(answers), len(data.train_ds), len(data.valid_ds)"
      ],
      "execution_count": 0,
      "outputs": [
        {
          "output_type": "execute_result",
          "data": {
            "text/plain": [
              "(183573, 165216, 18357)"
            ]
          },
          "metadata": {
            "tags": []
          },
          "execution_count": 19
        }
      ]
    },
    {
      "cell_type": "code",
      "metadata": {
        "id": "32OKyRsyhhGf",
        "colab_type": "code",
        "colab": {}
      },
      "source": [
        "learn = collab_learner(data, n_factors=50, y_range=y_range, wd=1e-1)"
      ],
      "execution_count": 0,
      "outputs": []
    },
    {
      "cell_type": "code",
      "metadata": {
        "id": "bgpm-BAihhHK",
        "colab_type": "code",
        "outputId": "18bb295f-a338-4bbd-f4c4-c9cc0eab7aec",
        "colab": {
          "base_uri": "https://localhost:8080/",
          "height": 300
        }
      },
      "source": [
        "learn.lr_find()\n",
        "learn.recorder.plot(skip_end=15)"
      ],
      "execution_count": 0,
      "outputs": [
        {
          "output_type": "display_data",
          "data": {
            "text/html": [
              ""
            ],
            "text/plain": [
              "<IPython.core.display.HTML object>"
            ]
          },
          "metadata": {
            "tags": []
          }
        },
        {
          "output_type": "stream",
          "text": [
            "LR Finder is complete, type {learner_name}.recorder.plot() to see the graph.\n"
          ],
          "name": "stdout"
        },
        {
          "output_type": "display_data",
          "data": {
            "image/png": "[encoded data removed]",
            "text/plain": [
              "<Figure size 432x288 with 1 Axes>"
            ]
          },
          "metadata": {
            "tags": []
          }
        }
      ]
    },
    {
      "cell_type": "code",
      "metadata": {
        "id": "EKTmyoR7hhHP",
        "colab_type": "code",
        "outputId": "e2d13895-b3d8-471d-eb93-3950991aa02c",
        "colab": {
          "base_uri": "https://localhost:8080/",
          "height": 194
        }
      },
      "source": [
        "learn.fit_one_cycle(5, 1e-3)"
      ],
      "execution_count": 0,
      "outputs": [
        {
          "output_type": "display_data",
          "data": {
            "text/html": [
              "<table border=\"1\" class=\"dataframe\">\n",
              "  <thead>\n",
              "    <tr style=\"text-align: left;\">\n",
              "      <th>epoch</th>\n",
              "      <th>train_loss</th>\n",
              "      <th>valid_loss</th>\n",
              "      <th>time</th>\n",
              "    </tr>\n",
              "  </thead>\n",
              "  <tbody>\n",
              "    <tr>\n",
              "      <td>0</td>\n",
              "      <td>0.213425</td>\n",
              "      <td>0.213881</td>\n",
              "      <td>00:15</td>\n",
              "    </tr>\n",
              "    <tr>\n",
              "      <td>1</td>\n",
              "      <td>0.174367</td>\n",
              "      <td>0.177883</td>\n",
              "      <td>00:15</td>\n",
              "    </tr>\n",
              "    <tr>\n",
              "      <td>2</td>\n",
              "      <td>0.171443</td>\n",
              "      <td>0.174706</td>\n",
              "      <td>00:16</td>\n",
              "    </tr>\n",
              "    <tr>\n",
              "      <td>3</td>\n",
              "      <td>0.165946</td>\n",
              "      <td>0.174200</td>\n",
              "      <td>00:15</td>\n",
              "    </tr>\n",
              "    <tr>\n",
              "      <td>4</td>\n",
              "      <td>0.163144</td>\n",
              "      <td>0.174171</td>\n",
              "      <td>00:15</td>\n",
              "    </tr>\n",
              "  </tbody>\n",
              "</table>"
            ],
            "text/plain": [
              "<IPython.core.display.HTML object>"
            ]
          },
          "metadata": {
            "tags": []
          }
        }
      ]
    },
    {
      "cell_type": "code",
      "metadata": {
        "id": "vTdeeQfHhhHS",
        "colab_type": "code",
        "colab": {}
      },
      "source": [
        "learn.save('dotprod')"
      ],
      "execution_count": 0,
      "outputs": []
    },
    {
      "cell_type": "markdown",
      "metadata": {
        "id": "39iaYDNEhhHW",
        "colab_type": "text"
      },
      "source": [
        "## Interpretation"
      ]
    },
    {
      "cell_type": "markdown",
      "metadata": {
        "id": "pK4cRUoUhhHX",
        "colab_type": "text"
      },
      "source": [
        "### Setup"
      ]
    },
    {
      "cell_type": "code",
      "metadata": {
        "id": "xEHeDxMKhhHY",
        "colab_type": "code",
        "colab": {}
      },
      "source": [
        "learn.load('dotprod');"
      ],
      "execution_count": 0,
      "outputs": []
    },
    {
      "cell_type": "code",
      "metadata": {
        "id": "lp5D6dOChhHb",
        "colab_type": "code",
        "outputId": "a2c46360-01de-43cc-de67-ab902951b9fe",
        "colab": {
          "base_uri": "https://localhost:8080/",
          "height": 124
        }
      },
      "source": [
        "learn.model"
      ],
      "execution_count": 0,
      "outputs": [
        {
          "output_type": "execute_result",
          "data": {
            "text/plain": [
              "EmbeddingDotBias(\n",
              "  (u_weight): Embedding(1001, 50)\n",
              "  (i_weight): Embedding(1001, 50)\n",
              "  (u_bias): Embedding(1001, 1)\n",
              "  (i_bias): Embedding(1001, 1)\n",
              ")"
            ]
          },
          "metadata": {
            "tags": []
          },
          "execution_count": 25
        }
      ]
    },
    {
      "cell_type": "code",
      "metadata": {
        "id": "jNnmJqWRhhHe",
        "colab_type": "code",
        "outputId": "3847ff3d-a510-4284-a63e-0e6e265f947c",
        "colab": {
          "base_uri": "https://localhost:8080/",
          "height": 52
        }
      },
      "source": [
        "# Order the questions by the ones with the most answers\n",
        "g = answers.groupby(item)['IsCorrect'].count()\n",
        "top_questions = g.sort_values(ascending=False).index.values[:1000]\n",
        "top_questions[:10]"
      ],
      "execution_count": 0,
      "outputs": [
        {
          "output_type": "execute_result",
          "data": {
            "text/plain": [
              "[73873, 73874, 73876, 73877, 73878, 73879, 73880, 73875, 73882, 73881]\n",
              "Categories (1000, int64): [73582 < 73583 < 73584 < 73585 ... 79850 < 79851 < 79852 < 79853]"
            ]
          },
          "metadata": {
            "tags": []
          },
          "execution_count": 27
        }
      ]
    },
    {
      "cell_type": "markdown",
      "metadata": {
        "id": "PS3IlQmEhhHh",
        "colab_type": "text"
      },
      "source": [
        "### Question bias\n",
        "\n",
        "When a student answers a question they may get it correct because they are very able or because the question is easy. The bias term identifies how hard a question is removing taking account of the ability of the students who answered the question. This therefore gives us some measure of difficulty.\n",
        "\n",
        "I was having a complete nightmare with types here. The type of questionId is int64 but the `learn.bias` function was hitting at error when I passed in `top_questions`. It was complaining that the item did not exist in the training data but it did exist it just seems that the item is converting to a string! So I added `astype(str)` below."
      ]
    },
    {
      "cell_type": "code",
      "metadata": {
        "id": "X0_f32JnhhHi",
        "colab_type": "code",
        "outputId": "aec0a3c4-79f5-41e8-8726-ae3ab2d8a28e",
        "colab": {
          "base_uri": "https://localhost:8080/",
          "height": 35
        }
      },
      "source": [
        "question_bias = learn.bias(top_questions.astype(str), is_item=True)\n",
        "question_bias.shape"
      ],
      "execution_count": 0,
      "outputs": [
        {
          "output_type": "execute_result",
          "data": {
            "text/plain": [
              "torch.Size([1000])"
            ]
          },
          "metadata": {
            "tags": []
          },
          "execution_count": 28
        }
      ]
    },
    {
      "cell_type": "code",
      "metadata": {
        "id": "RzRJXVXZhhHm",
        "colab_type": "code",
        "colab": {}
      },
      "source": [
        "mean_isCorrect = answers.groupby(item)['IsCorrect'].mean()"
      ],
      "execution_count": 0,
      "outputs": []
    },
    {
      "cell_type": "code",
      "metadata": {
        "id": "vI6kPTLAxfyo",
        "colab_type": "code",
        "outputId": "5694a3a6-48e5-4f4e-eed1-91bcfbe7f252",
        "colab": {
          "base_uri": "https://localhost:8080/",
          "height": 35
        }
      },
      "source": [
        "mean_isCorrect[73873]"
      ],
      "execution_count": 0,
      "outputs": [
        {
          "output_type": "execute_result",
          "data": {
            "text/plain": [
              "0.8614130434782609"
            ]
          },
          "metadata": {
            "tags": []
          },
          "execution_count": 30
        }
      ]
    },
    {
      "cell_type": "code",
      "metadata": {
        "id": "onYMHEUGjrac",
        "colab_type": "code",
        "colab": {}
      },
      "source": [
        "top_questions_int = top_questions.astype(int)"
      ],
      "execution_count": 0,
      "outputs": []
    },
    {
      "cell_type": "code",
      "metadata": {
        "id": "_Km7qyG4jOU5",
        "colab_type": "code",
        "colab": {}
      },
      "source": [
        "#question_answers = [(b, i, mean_isCorrect.loc[i.astype(int)]) for i,b in zip(top_questions,question_bias)]\n",
        "question_answers = [(b, i, mean_isCorrect[i]) for i,b in zip(top_questions_int,question_bias)]"
      ],
      "execution_count": 0,
      "outputs": []
    },
    {
      "cell_type": "markdown",
      "metadata": {
        "id": "tk-9iew8sZ0O",
        "colab_type": "text"
      },
      "source": [
        "The following list shows the questions which the algorithm has identified as the most difficult (using the question bias term). There are three values shown for each question: the bias, the questionId and the mean of the correct answer. Notice that the order of the bias is not the same as the order of the means. This is a very important point. Our algorithm is not returning the questions which were just answered incorrectly the most, it is taking account of the student ability."
      ]
    },
    {
      "cell_type": "code",
      "metadata": {
        "id": "pswm8hGrhhHo",
        "colab_type": "code",
        "colab": {}
      },
      "source": [
        "item0 = lambda o:o[0]"
      ],
      "execution_count": 0,
      "outputs": []
    },
    {
      "cell_type": "code",
      "metadata": {
        "id": "_yFtPkc8hhHs",
        "colab_type": "code",
        "outputId": "b6bf743f-605a-4871-af18-6830c299dba6",
        "colab": {
          "base_uri": "https://localhost:8080/",
          "height": 284
        }
      },
      "source": [
        "sorted(question_answers, key=item0)[:15]"
      ],
      "execution_count": 0,
      "outputs": [
        {
          "output_type": "execute_result",
          "data": {
            "text/plain": [
              "[(tensor(-0.3427), 78319, 0.1527777777777778),\n",
              " (tensor(-0.3128), 78676, 0.18518518518518517),\n",
              " (tensor(-0.3017), 77193, 0.20207253886010362),\n",
              " (tensor(-0.3017), 75969, 0.16666666666666666),\n",
              " (tensor(-0.2847), 78227, 0.2153846153846154),\n",
              " (tensor(-0.2749), 79746, 0.2254335260115607),\n",
              " (tensor(-0.2728), 79730, 0.2578125),\n",
              " (tensor(-0.2664), 78519, 0.22325581395348837),\n",
              " (tensor(-0.2607), 79013, 0.25203252032520324),\n",
              " (tensor(-0.2575), 79022, 0.2727272727272727),\n",
              " (tensor(-0.2539), 77183, 0.1890547263681592),\n",
              " (tensor(-0.2515), 77933, 0.2304147465437788),\n",
              " (tensor(-0.2501), 79645, 0.27941176470588236),\n",
              " (tensor(-0.2498), 78310, 0.2602739726027397),\n",
              " (tensor(-0.2467), 78384, 0.17525773195876287)]"
            ]
          },
          "metadata": {
            "tags": []
          },
          "execution_count": 34
        }
      ]
    },
    {
      "cell_type": "markdown",
      "metadata": {
        "id": "oh65vcZZvuc-",
        "colab_type": "text"
      },
      "source": [
        "And now for the easiest questions..."
      ]
    },
    {
      "cell_type": "code",
      "metadata": {
        "id": "gbljYOmDhhHv",
        "colab_type": "code",
        "outputId": "6c5e86b2-6400-4bae-c86d-5432b61e6b35",
        "colab": {
          "base_uri": "https://localhost:8080/",
          "height": 284
        }
      },
      "source": [
        "sorted(question_answers, key=lambda o: o[0], reverse=True)[:15]"
      ],
      "execution_count": 0,
      "outputs": [
        {
          "output_type": "execute_result",
          "data": {
            "text/plain": [
              "[(tensor(0.5501), 77124, 0.9955947136563876),\n",
              " (tensor(0.5225), 78228, 0.9150326797385621),\n",
              " (tensor(0.5112), 77153, 0.9559748427672956),\n",
              " (tensor(0.5046), 76719, 0.9565217391304348),\n",
              " (tensor(0.4964), 73652, 0.9446064139941691),\n",
              " (tensor(0.4938), 77122, 0.9823788546255506),\n",
              " (tensor(0.4820), 78788, 0.9805194805194806),\n",
              " (tensor(0.4801), 78332, 0.9655172413793104),\n",
              " (tensor(0.4623), 78897, 0.9936708860759493),\n",
              " (tensor(0.4464), 77913, 0.975609756097561),\n",
              " (tensor(0.4331), 77123, 0.960352422907489),\n",
              " (tensor(0.4323), 73582, 0.9285714285714286),\n",
              " (tensor(0.4311), 78388, 0.9481481481481482),\n",
              " (tensor(0.4208), 76857, 0.986013986013986),\n",
              " (tensor(0.4202), 79742, 0.930635838150289)]"
            ]
          },
          "metadata": {
            "tags": []
          },
          "execution_count": 35
        }
      ]
    },
    {
      "cell_type": "markdown",
      "metadata": {
        "id": "Ah_Ivdo3hhHy",
        "colab_type": "text"
      },
      "source": [
        "### Question weights"
      ]
    },
    {
      "cell_type": "markdown",
      "metadata": {
        "id": "3O40mJBuwhHh",
        "colab_type": "text"
      },
      "source": [
        "The weight matrix provides us with a way to look at the similarity between questions. The embeddings learnt for each question will capture some characteristics of the question in some way. E.g. the level of literacy required, the use of variables. Features are not hardcoded but learnt from the data naturally, so it then our task to interpret them."
      ]
    },
    {
      "cell_type": "code",
      "metadata": {
        "id": "JpTXqQYchhHy",
        "colab_type": "code",
        "outputId": "1d7d1e5a-e2db-432c-cb53-f037e3e4f02c",
        "colab": {
          "base_uri": "https://localhost:8080/",
          "height": 35
        }
      },
      "source": [
        "question_w = learn.weight(top_questions.astype(str), is_item=True)\n",
        "question_w.shape"
      ],
      "execution_count": 0,
      "outputs": [
        {
          "output_type": "execute_result",
          "data": {
            "text/plain": [
              "torch.Size([1000, 50])"
            ]
          },
          "metadata": {
            "tags": []
          },
          "execution_count": 36
        }
      ]
    },
    {
      "cell_type": "markdown",
      "metadata": {
        "id": "BhrNtnpdxFjS",
        "colab_type": "text"
      },
      "source": [
        "Our embedding vectors are 50 elements long which makes it hard to interpret them. To aid interpretation we can use Principal Component Analysis. In PCA we project onto a lower dimensional space whilst trying to retain as much information as possible."
      ]
    },
    {
      "cell_type": "code",
      "metadata": {
        "id": "4ehq1j6bhhH1",
        "colab_type": "code",
        "outputId": "9cf8df4f-687d-4044-a620-07cf464dd81e",
        "colab": {
          "base_uri": "https://localhost:8080/",
          "height": 35
        }
      },
      "source": [
        "question_pca = question_w.pca(3)\n",
        "question_pca.shape"
      ],
      "execution_count": 0,
      "outputs": [
        {
          "output_type": "execute_result",
          "data": {
            "text/plain": [
              "torch.Size([1000, 3])"
            ]
          },
          "metadata": {
            "tags": []
          },
          "execution_count": 37
        }
      ]
    },
    {
      "cell_type": "code",
      "metadata": {
        "id": "cuLeyda3hhH4",
        "colab_type": "code",
        "colab": {}
      },
      "source": [
        "fac0,fac1,fac2 = question_pca.t()\n",
        "question_comp = [(f, i) for f,i in zip(fac0, top_questions)]"
      ],
      "execution_count": 0,
      "outputs": []
    },
    {
      "cell_type": "code",
      "metadata": {
        "id": "X8WHh1jLhhH6",
        "colab_type": "code",
        "outputId": "1ff260d9-2750-4960-fdbe-656d955ebf92",
        "colab": {
          "base_uri": "https://localhost:8080/",
          "height": 195
        }
      },
      "source": [
        "sorted(question_comp, key=itemgetter(0), reverse=True)[:10]"
      ],
      "execution_count": 0,
      "outputs": [
        {
          "output_type": "execute_result",
          "data": {
            "text/plain": [
              "[(tensor(1.4001), 76720),\n",
              " (tensor(1.2958), 78076),\n",
              " (tensor(1.2309), 78788),\n",
              " (tensor(1.2308), 78961),\n",
              " (tensor(1.2130), 76864),\n",
              " (tensor(1.1984), 78983),\n",
              " (tensor(1.1975), 77143),\n",
              " (tensor(1.1939), 78992),\n",
              " (tensor(1.1852), 76719),\n",
              " (tensor(1.1823), 77913)]"
            ]
          },
          "metadata": {
            "tags": []
          },
          "execution_count": 39
        }
      ]
    },
    {
      "cell_type": "code",
      "metadata": {
        "id": "2TtMwd7ThhH9",
        "colab_type": "code",
        "outputId": "33850d85-bbd5-4a03-d931-bf40980836fc",
        "colab": {
          "base_uri": "https://localhost:8080/",
          "height": 195
        }
      },
      "source": [
        "sorted(question_comp, key=itemgetter(0))[:10]"
      ],
      "execution_count": 0,
      "outputs": [
        {
          "output_type": "execute_result",
          "data": {
            "text/plain": [
              "[(tensor(-1.4659), 78382),\n",
              " (tensor(-1.3433), 78521),\n",
              " (tensor(-1.3389), 78319),\n",
              " (tensor(-1.3358), 77183),\n",
              " (tensor(-1.3320), 77184),\n",
              " (tensor(-1.3279), 78519),\n",
              " (tensor(-1.3166), 75969),\n",
              " (tensor(-1.3131), 78227),\n",
              " (tensor(-1.2966), 77933),\n",
              " (tensor(-1.2590), 78243)]"
            ]
          },
          "metadata": {
            "tags": []
          },
          "execution_count": 40
        }
      ]
    },
    {
      "cell_type": "markdown",
      "metadata": {
        "id": "DNYKKPCnx93v",
        "colab_type": "text"
      },
      "source": [
        "**TODO An interesting exercise here would be to look at the subjects or constructs that each of these questions is tagged with.**"
      ]
    },
    {
      "cell_type": "code",
      "metadata": {
        "id": "BSIcz82KhhIA",
        "colab_type": "code",
        "colab": {}
      },
      "source": [
        "question_comp = [(f, i) for f,i in zip(fac1, top_questions)]"
      ],
      "execution_count": 0,
      "outputs": []
    },
    {
      "cell_type": "code",
      "metadata": {
        "id": "ZrN1ivzchhIC",
        "colab_type": "code",
        "outputId": "6a388bff-0660-4600-8ebf-dca417c372e8",
        "colab": {
          "base_uri": "https://localhost:8080/",
          "height": 195
        }
      },
      "source": [
        "sorted(question_comp, key=itemgetter(0), reverse=True)[:10]"
      ],
      "execution_count": 0,
      "outputs": [
        {
          "output_type": "execute_result",
          "data": {
            "text/plain": [
              "[(tensor(0.8811), 76868),\n",
              " (tensor(0.8462), 78236),\n",
              " (tensor(0.6921), 78297),\n",
              " (tensor(0.6683), 77985),\n",
              " (tensor(0.6344), 78164),\n",
              " (tensor(0.6343), 78530),\n",
              " (tensor(0.6250), 79782),\n",
              " (tensor(0.6207), 78798),\n",
              " (tensor(0.6096), 79783),\n",
              " (tensor(0.6089), 78162)]"
            ]
          },
          "metadata": {
            "tags": []
          },
          "execution_count": 42
        }
      ]
    },
    {
      "cell_type": "code",
      "metadata": {
        "id": "aClH8LF5hhIE",
        "colab_type": "code",
        "outputId": "6a5fcd06-6cd7-4186-fa3f-bf9b9f56511b",
        "colab": {
          "base_uri": "https://localhost:8080/",
          "height": 195
        }
      },
      "source": [
        "sorted(question_comp, key=itemgetter(0))[:10]"
      ],
      "execution_count": 0,
      "outputs": [
        {
          "output_type": "execute_result",
          "data": {
            "text/plain": [
              "[(tensor(-1.2463), 78322),\n",
              " (tensor(-1.2426), 77153),\n",
              " (tensor(-0.9809), 79746),\n",
              " (tensor(-0.9754), 75930),\n",
              " (tensor(-0.9688), 73616),\n",
              " (tensor(-0.9206), 75963),\n",
              " (tensor(-0.9145), 75961),\n",
              " (tensor(-0.9047), 78597),\n",
              " (tensor(-0.8923), 75934),\n",
              " (tensor(-0.8921), 78303)]"
            ]
          },
          "metadata": {
            "tags": []
          },
          "execution_count": 43
        }
      ]
    },
    {
      "cell_type": "code",
      "metadata": {
        "id": "zIcIDn1HhhIH",
        "colab_type": "code",
        "outputId": "78ea55bb-970d-4c50-cb6a-c64b1e9245fc",
        "colab": {
          "base_uri": "https://localhost:8080/",
          "height": 867
        }
      },
      "source": [
        "idxs = np.random.choice(len(top_questions), 50, replace=False)\n",
        "idxs = list(range(50))\n",
        "X = fac0[idxs]\n",
        "Y = fac2[idxs]\n",
        "plt.figure(figsize=(15,15))\n",
        "plt.scatter(X, Y)\n",
        "for i, x, y in zip(top_questions[idxs], X, Y):\n",
        "    plt.text(x,y,i, color=np.random.rand(3)*0.7, fontsize=11)\n",
        "plt.show()"
      ],
      "execution_count": 0,
      "outputs": [
        {
          "output_type": "display_data",
          "data": {
            "image/png": "[encoded data removed]",
            "text/plain": [
              "<Figure size 1080x1080 with 1 Axes>"
            ]
          },
          "metadata": {
            "tags": []
          }
        }
      ]
    },
    {
      "cell_type": "code",
      "metadata": {
        "id": "Z4sovqq7hhIK",
        "colab_type": "code",
        "colab": {}
      },
      "source": [
        ""
      ],
      "execution_count": 0,
      "outputs": []
    }
  ]
}